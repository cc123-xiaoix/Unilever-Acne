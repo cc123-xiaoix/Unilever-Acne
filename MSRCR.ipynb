{
 "cells": [
  {
   "cell_type": "code",
   "execution_count": 1,
   "id": "78a6f26e",
   "metadata": {
    "ExecuteTime": {
     "end_time": "2022-08-04T17:38:59.096824Z",
     "start_time": "2022-08-04T17:38:57.818718Z"
    }
   },
   "outputs": [],
   "source": [
    "import numpy as np\n",
    "import cv2\n",
    "import sys\n",
    "import os\n",
    "\n",
    "def retinex(img, sigma_list, G, b, alpha, beta, low_clip, high_clip):\n",
    "\n",
    "    def singleScaleRetinex(img, sigma):\n",
    "        retinex = np.log10(img) - np.log10(cv2.GaussianBlur(img, (0, 0), sigma))\n",
    "\n",
    "        return retinex\n",
    "\n",
    "\n",
    "    def multiScaleRetinex(img, sigma_list):\n",
    "        retinex = np.zeros_like(img)   \n",
    "        for sigma in sigma_list:\n",
    "            retinex += singleScaleRetinex(img, sigma)  \n",
    "\n",
    "        retinex = retinex / len(sigma_list)\n",
    "\n",
    "        return retinex\n",
    "\n",
    "\n",
    "    def colorRestoration(img, alpha, beta):\n",
    "        img_sum = np.sum(img, axis=2, keepdims=True)\n",
    "\n",
    "        color_restoration = beta * (np.log10(alpha * img) - np.log10(img_sum))\n",
    "\n",
    "        return color_restoration\n",
    "\n",
    "\n",
    "    def simplestColorBalance(img, low_clip, high_clip):\n",
    "        total = img.shape[0] * img.shape[1]\n",
    "        for i in range(img.shape[2]):\n",
    "            unique, counts = np.unique(img[:, :, i], return_counts=True)\n",
    "            current = 0\n",
    "            for u, c in zip(unique, counts):\n",
    "                if float(current) / total < low_clip:\n",
    "                    low_val = u\n",
    "                if float(current) / total < high_clip:\n",
    "                    high_val = u\n",
    "                current += c\n",
    "\n",
    "            img[:, :, i] = np.maximum(np.minimum(img[:, :, i], high_val), low_val)\n",
    "\n",
    "        return img\n",
    "\n",
    "\n",
    "    def MSRCR(img, sigma_list, G, b, alpha, beta, low_clip, high_clip):\n",
    "        img = np.float64(img) + 1.0\n",
    "\n",
    "        img_retinex = multiScaleRetinex(img, sigma_list)\n",
    "\n",
    "        img_color = colorRestoration(img, alpha, beta)\n",
    "        img_msrcr = G * (img_retinex * img_color + b)\n",
    "\n",
    "        for i in range(img_msrcr.shape[2]):\n",
    "            img_msrcr[:, :, i] = (img_msrcr[:, :, i] - np.min(img_msrcr[:, :, i])) / \\\n",
    "                                 (np.max(img_msrcr[:, :, i]) - np.min(img_msrcr[:, :, i])) * \\\n",
    "                                 255\n",
    "\n",
    "        img_msrcr = np.uint8(np.minimum(np.maximum(img_msrcr, 0), 255))\n",
    "        img_msrcr = simplestColorBalance(img_msrcr, low_clip, high_clip)\n",
    "\n",
    "        return img_msrcr\n",
    "    \n",
    "    retinex = MSRCR(img, sigma_list, G, b, alpha, beta, low_clip, high_clip)\n",
    "    return retinex\n",
    "\n"
   ]
  },
  {
   "cell_type": "code",
   "execution_count": 3,
   "id": "cc05a354",
   "metadata": {
    "ExecuteTime": {
     "end_time": "2022-08-04T17:39:40.827599Z",
     "start_time": "2022-08-04T17:39:40.513169Z"
    },
    "scrolled": true
   },
   "outputs": [
    {
     "name": "stdout",
     "output_type": "stream",
     "text": [
      "msrcr processing......\n",
      "msrcr processing......\n"
     ]
    },
    {
     "ename": "ValueError",
     "evalue": "non-broadcastable output operand with shape () doesn't match the broadcast shape (4,1)",
     "output_type": "error",
     "traceback": [
      "\u001b[0;31m---------------------------------------------------------------------------\u001b[0m",
      "\u001b[0;31mValueError\u001b[0m                                Traceback (most recent call last)",
      "\u001b[0;32m/var/folders/b9/cbcfk7cn21jgh4rpfnygpcmh0000gn/T/ipykernel_44053/3614305836.py\u001b[0m in \u001b[0;36m<module>\u001b[0;34m\u001b[0m\n\u001b[1;32m     21\u001b[0m \u001b[0;34m\u001b[0m\u001b[0m\n\u001b[1;32m     22\u001b[0m     \u001b[0mprint\u001b[0m\u001b[0;34m(\u001b[0m\u001b[0;34m'msrcr processing......'\u001b[0m\u001b[0;34m)\u001b[0m\u001b[0;34m\u001b[0m\u001b[0;34m\u001b[0m\u001b[0m\n\u001b[0;32m---> 23\u001b[0;31m     \u001b[0ma\u001b[0m \u001b[0;34m=\u001b[0m \u001b[0mretinex\u001b[0m\u001b[0;34m(\u001b[0m\u001b[0mimg\u001b[0m\u001b[0;34m,\u001b[0m \u001b[0msigma_list\u001b[0m\u001b[0;34m,\u001b[0m \u001b[0mG\u001b[0m\u001b[0;34m,\u001b[0m \u001b[0mb\u001b[0m\u001b[0;34m,\u001b[0m \u001b[0malpha\u001b[0m\u001b[0;34m,\u001b[0m \u001b[0mbeta\u001b[0m\u001b[0;34m,\u001b[0m \u001b[0mlow_clip\u001b[0m\u001b[0;34m,\u001b[0m \u001b[0mhigh_clip\u001b[0m\u001b[0;34m)\u001b[0m\u001b[0;34m\u001b[0m\u001b[0;34m\u001b[0m\u001b[0m\n\u001b[0m\u001b[1;32m     24\u001b[0m \u001b[0;34m\u001b[0m\u001b[0m\n\u001b[1;32m     25\u001b[0m     \u001b[0;31m#cv2.imshow('MSRCR retinex', a)\u001b[0m\u001b[0;34m\u001b[0m\u001b[0;34m\u001b[0m\u001b[0m\n",
      "\u001b[0;32m/var/folders/b9/cbcfk7cn21jgh4rpfnygpcmh0000gn/T/ipykernel_44053/1747369600.py\u001b[0m in \u001b[0;36mretinex\u001b[0;34m(img, sigma_list, G, b, alpha, beta, low_clip, high_clip)\u001b[0m\n\u001b[1;32m     65\u001b[0m         \u001b[0;32mreturn\u001b[0m \u001b[0mimg_msrcr\u001b[0m\u001b[0;34m\u001b[0m\u001b[0;34m\u001b[0m\u001b[0m\n\u001b[1;32m     66\u001b[0m \u001b[0;34m\u001b[0m\u001b[0m\n\u001b[0;32m---> 67\u001b[0;31m     \u001b[0mretinex\u001b[0m \u001b[0;34m=\u001b[0m \u001b[0mMSRCR\u001b[0m\u001b[0;34m(\u001b[0m\u001b[0mimg\u001b[0m\u001b[0;34m,\u001b[0m \u001b[0msigma_list\u001b[0m\u001b[0;34m,\u001b[0m \u001b[0mG\u001b[0m\u001b[0;34m,\u001b[0m \u001b[0mb\u001b[0m\u001b[0;34m,\u001b[0m \u001b[0malpha\u001b[0m\u001b[0;34m,\u001b[0m \u001b[0mbeta\u001b[0m\u001b[0;34m,\u001b[0m \u001b[0mlow_clip\u001b[0m\u001b[0;34m,\u001b[0m \u001b[0mhigh_clip\u001b[0m\u001b[0;34m)\u001b[0m\u001b[0;34m\u001b[0m\u001b[0;34m\u001b[0m\u001b[0m\n\u001b[0m\u001b[1;32m     68\u001b[0m     \u001b[0;32mreturn\u001b[0m \u001b[0mretinex\u001b[0m\u001b[0;34m\u001b[0m\u001b[0;34m\u001b[0m\u001b[0m\n\u001b[1;32m     69\u001b[0m \u001b[0;34m\u001b[0m\u001b[0m\n",
      "\u001b[0;32m/var/folders/b9/cbcfk7cn21jgh4rpfnygpcmh0000gn/T/ipykernel_44053/1747369600.py\u001b[0m in \u001b[0;36mMSRCR\u001b[0;34m(img, sigma_list, G, b, alpha, beta, low_clip, high_clip)\u001b[0m\n\u001b[1;32m     50\u001b[0m         \u001b[0mimg\u001b[0m \u001b[0;34m=\u001b[0m \u001b[0mnp\u001b[0m\u001b[0;34m.\u001b[0m\u001b[0mfloat64\u001b[0m\u001b[0;34m(\u001b[0m\u001b[0mimg\u001b[0m\u001b[0;34m)\u001b[0m \u001b[0;34m+\u001b[0m \u001b[0;36m1.0\u001b[0m\u001b[0;34m\u001b[0m\u001b[0;34m\u001b[0m\u001b[0m\n\u001b[1;32m     51\u001b[0m \u001b[0;34m\u001b[0m\u001b[0m\n\u001b[0;32m---> 52\u001b[0;31m         \u001b[0mimg_retinex\u001b[0m \u001b[0;34m=\u001b[0m \u001b[0mmultiScaleRetinex\u001b[0m\u001b[0;34m(\u001b[0m\u001b[0mimg\u001b[0m\u001b[0;34m,\u001b[0m \u001b[0msigma_list\u001b[0m\u001b[0;34m)\u001b[0m\u001b[0;34m\u001b[0m\u001b[0;34m\u001b[0m\u001b[0m\n\u001b[0m\u001b[1;32m     53\u001b[0m \u001b[0;34m\u001b[0m\u001b[0m\n\u001b[1;32m     54\u001b[0m         \u001b[0mimg_color\u001b[0m \u001b[0;34m=\u001b[0m \u001b[0mcolorRestoration\u001b[0m\u001b[0;34m(\u001b[0m\u001b[0mimg\u001b[0m\u001b[0;34m,\u001b[0m \u001b[0malpha\u001b[0m\u001b[0;34m,\u001b[0m \u001b[0mbeta\u001b[0m\u001b[0;34m)\u001b[0m\u001b[0;34m\u001b[0m\u001b[0;34m\u001b[0m\u001b[0m\n",
      "\u001b[0;32m/var/folders/b9/cbcfk7cn21jgh4rpfnygpcmh0000gn/T/ipykernel_44053/1747369600.py\u001b[0m in \u001b[0;36mmultiScaleRetinex\u001b[0;34m(img, sigma_list)\u001b[0m\n\u001b[1;32m     15\u001b[0m         \u001b[0mretinex\u001b[0m \u001b[0;34m=\u001b[0m \u001b[0mnp\u001b[0m\u001b[0;34m.\u001b[0m\u001b[0mzeros_like\u001b[0m\u001b[0;34m(\u001b[0m\u001b[0mimg\u001b[0m\u001b[0;34m)\u001b[0m\u001b[0;34m\u001b[0m\u001b[0;34m\u001b[0m\u001b[0m\n\u001b[1;32m     16\u001b[0m         \u001b[0;32mfor\u001b[0m \u001b[0msigma\u001b[0m \u001b[0;32min\u001b[0m \u001b[0msigma_list\u001b[0m\u001b[0;34m:\u001b[0m\u001b[0;34m\u001b[0m\u001b[0;34m\u001b[0m\u001b[0m\n\u001b[0;32m---> 17\u001b[0;31m             \u001b[0mretinex\u001b[0m \u001b[0;34m+=\u001b[0m \u001b[0msingleScaleRetinex\u001b[0m\u001b[0;34m(\u001b[0m\u001b[0mimg\u001b[0m\u001b[0;34m,\u001b[0m \u001b[0msigma\u001b[0m\u001b[0;34m)\u001b[0m\u001b[0;34m\u001b[0m\u001b[0;34m\u001b[0m\u001b[0m\n\u001b[0m\u001b[1;32m     18\u001b[0m \u001b[0;34m\u001b[0m\u001b[0m\n\u001b[1;32m     19\u001b[0m         \u001b[0mretinex\u001b[0m \u001b[0;34m=\u001b[0m \u001b[0mretinex\u001b[0m \u001b[0;34m/\u001b[0m \u001b[0mlen\u001b[0m\u001b[0;34m(\u001b[0m\u001b[0msigma_list\u001b[0m\u001b[0;34m)\u001b[0m\u001b[0;34m\u001b[0m\u001b[0;34m\u001b[0m\u001b[0m\n",
      "\u001b[0;31mValueError\u001b[0m: non-broadcastable output operand with shape () doesn't match the broadcast shape (4,1)"
     ]
    }
   ],
   "source": [
    "data_path = \"/Users/jiangshihua/Desktop/1/test/e0/\"\n",
    "img_list = os.listdir(data_path)\n",
    "if len(img_list) == 0:\n",
    "    print('Data directory is empty.')\n",
    "    exit()\n",
    "\n",
    "\n",
    "for img_name in img_list:\n",
    "    if img_name == '.gitkeep':\n",
    "        continue\n",
    "\n",
    "    img = cv2.imread(os.path.join(data_path, img_name))\n",
    "\n",
    "    sigma_list = [15, 80, 200]\n",
    "    G = 5.0\n",
    "    b = 25.0\n",
    "    alpha = 125.0\n",
    "    beta = 46.0\n",
    "    low_clip = 0.01\n",
    "    high_clip = 0.99\n",
    "   \n",
    "    print('msrcr processing......')\n",
    "    a = retinex(img, sigma_list, G, b, alpha, beta, low_clip, high_clip)\n",
    "\n",
    "    #cv2.imshow('MSRCR retinex', a)\n",
    "    cv2.imwrite(\"MSRCR_\"+img_name+\".tif\", a);\n",
    "\n",
    "    #cv2.waitKey()\n"
   ]
  },
  {
   "cell_type": "code",
   "execution_count": null,
   "id": "b9c5b336",
   "metadata": {},
   "outputs": [],
   "source": []
  }
 ],
 "metadata": {
  "kernelspec": {
   "display_name": "Python 3 (ipykernel)",
   "language": "python",
   "name": "python3"
  },
  "language_info": {
   "codemirror_mode": {
    "name": "ipython",
    "version": 3
   },
   "file_extension": ".py",
   "mimetype": "text/x-python",
   "name": "python",
   "nbconvert_exporter": "python",
   "pygments_lexer": "ipython3",
   "version": "3.9.7"
  }
 },
 "nbformat": 4,
 "nbformat_minor": 5
}
