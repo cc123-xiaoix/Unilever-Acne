{
 "cells": [
  {
   "cell_type": "code",
   "execution_count": 60,
   "id": "f7eba9ee",
   "metadata": {
    "ExecuteTime": {
     "end_time": "2022-08-04T17:51:48.861679Z",
     "start_time": "2022-08-04T17:51:48.837222Z"
    }
   },
   "outputs": [
    {
     "name": "stdout",
     "output_type": "stream",
     "text": [
      "Found 38 images belonging to 4 classes.\n",
      "Found 8 images belonging to 4 classes.\n"
     ]
    }
   ],
   "source": [
    "#导入相应的库\n",
    "from tensorflow.keras.preprocessing.image import ImageDataGenerator\n",
    "from sklearn.metrics import confusion_matrix\n",
    "import matplotlib.pyplot as plt\n",
    "import tensorflow as tf\n",
    "import pandas as pd\n",
    "import numpy as np  \n",
    "import itertools\n",
    "import os\n",
    "\n",
    "#设置图片的高和宽，一次训练所选取的样本数，迭代次数\n",
    "im_height = 224\n",
    "im_width = 224\n",
    "batch_size = 15\n",
    "epochs = 2\n",
    "\n",
    "\n",
    "image_path = \"/Users/jiangshihua/Desktop/1/\"  # 红细胞数据集路径\n",
    "train_dir = image_path + \"training/training\"  #训练集路径\n",
    "validation_dir = image_path + \"validation/validation\" #验证集路径\n",
    "\n",
    "# 定义训练集图像生成器，并进行图像增强\n",
    "train_image_generator = ImageDataGenerator( rescale=1./255, # 归一化\n",
    "                                            rotation_range=40, #旋转范围\n",
    "                                            width_shift_range=0.2, #水平平移范围\n",
    "                                            height_shift_range=0.2, #垂直平移范围\n",
    "                                           shear_range=0.2, #剪切变换的程度\n",
    "                                            zoom_range=0.2, #剪切变换的程度\n",
    "                                            fill_mode='nearest')\n",
    "                                            \n",
    "# 使用图像生成器从文件夹train_dir中读取样本，对标签进行one-hot编码\n",
    "train_data_gen = train_image_generator.flow_from_directory(directory=train_dir, #从训练集路径读取图片\n",
    "                                                           batch_size=batch_size, #一次训练所选取的样本数\n",
    "                                                           shuffle=True, #打乱标签\n",
    "                                                           target_size=(im_height, im_width), #图片resize到224x224大小\n",
    "                                                           class_mode='categorical') #one-hot编码\n",
    "                                                           \n",
    "# 训练集样本数        \n",
    "total_train = train_data_gen.n \n",
    "\n",
    "# 定义验证集图像生成器，并对图像进行预处理\n",
    "validation_image_generator = ImageDataGenerator(rescale=1./255) # 归一化\n",
    "\n",
    "# 使用图像生成器从验证集validation_dir中读取样本\n",
    "val_data_gen = validation_image_generator.flow_from_directory(directory=validation_dir,#从验证集路径读取图片\n",
    "                                                              batch_size=batch_size, #一次训练所选取的样本数\n",
    "                                                              shuffle=False,  #不打乱标签\n",
    "                                                              target_size=(im_height, im_width), #图片resize到224x224大小\n",
    "                                                              class_mode='categorical') #one-hot编码\n",
    "                                                              \n",
    "# 验证集样本数      \n",
    "total_val = val_data_gen.n\n"
   ]
  },
  {
   "cell_type": "code",
   "execution_count": 61,
   "id": "7048f904",
   "metadata": {
    "ExecuteTime": {
     "end_time": "2022-08-04T17:51:49.874690Z",
     "start_time": "2022-08-04T17:51:49.869304Z"
    }
   },
   "outputs": [],
   "source": [
    "# from sklearn.model_selection import train_test_split\n",
    "# from PIL import Image\n",
    "# import os\n",
    "\n",
    "\n",
    "# path=\"/Users/jiangshihua/Desktop/Created Dataset/Level_0/\"\n",
    "\n",
    "# dat= os.listdir(path)\n",
    "\n",
    "# train, test = train_test_split(dat, test_size = 0.3)\n",
    "\n",
    "# for file in train:\n",
    "\n",
    "#     im2 = Image.open(\"/Users/jiangshihua/Desktop/Created Dataset/Level_0/\"+file)\n",
    "#     im2.save(\"/Users/jiangshihua/Desktop/Created Dataset/training_0/\"+file)\n",
    "\n",
    "# for file in test:\n",
    "\n",
    "#     im2 = Image.open(\"/Users/jiangshihua/Desktop/Created Dataset/Level_0/\"+file)\n",
    "#     im2.save(\"/Users/jiangshihua/Desktop/Created Dataset/validation_0/\"+file)"
   ]
  },
  {
   "cell_type": "code",
   "execution_count": 62,
   "id": "9c050d6b-79b6-4203-92dc-c230b598fac0",
   "metadata": {
    "ExecuteTime": {
     "end_time": "2022-08-04T17:51:50.176328Z",
     "start_time": "2022-08-04T17:51:50.169165Z"
    }
   },
   "outputs": [
    {
     "name": "stdout",
     "output_type": "stream",
     "text": [
      "WARNING:tensorflow:`epsilon` argument is deprecated and will be removed, use `min_delta` instead.\n"
     ]
    }
   ],
   "source": [
    "from keras.callbacks import ReduceLROnPlateau\n",
    "#from keras.callbacks import EarlyStopping\n",
    "Reduce=ReduceLROnPlateau(monitor='val_accuracy',\n",
    "                         factor=0.1,\n",
    "                         patience=5,\n",
    "                         verbose=1,\n",
    "                         mode='auto',\n",
    "                         epsilon=0.0001,\n",
    "                         cooldown=0,\n",
    "                         min_lr=0)"
   ]
  },
  {
   "cell_type": "code",
   "execution_count": 9,
   "id": "9f0d58fd",
   "metadata": {
    "ExecuteTime": {
     "end_time": "2022-08-03T13:18:03.350353Z",
     "start_time": "2022-08-03T13:18:03.344402Z"
    }
   },
   "outputs": [],
   "source": [
    "import os\n",
    "def get_all_file(dir_name):\n",
    "    fullname_list, filename_list = [], []\n",
    "    for root, dirs, files in os.walk(dir_name):\n",
    "        for filename in files:\n",
    "            # 文件名列表，包含完整路径\n",
    "            fullname_list.append(os.path.join(root, filename))\n",
    "            # # 文件名列表，只包含文件名\n",
    "            filename_list.append(filename)\n",
    "    return fullname_list, filename_list\n"
   ]
  },
  {
   "cell_type": "code",
   "execution_count": 13,
   "id": "bbf9994f",
   "metadata": {
    "ExecuteTime": {
     "end_time": "2022-08-03T13:20:57.854676Z",
     "start_time": "2022-08-03T13:20:57.848937Z"
    }
   },
   "outputs": [],
   "source": [
    "load_path = \"/Users/jiangshihua/Desktop/facedetector_test/1/training/training/e1/\"\n",
    "save_path = '/Users/jiangshihua/Desktop/facedetector_test/1/training/training/e1_test/'\n",
    "fullname_list, filename_list = get_all_file(load_path)"
   ]
  },
  {
   "cell_type": "code",
   "execution_count": 14,
   "id": "fca9673d",
   "metadata": {
    "ExecuteTime": {
     "end_time": "2022-08-03T13:22:25.162599Z",
     "start_time": "2022-08-03T13:20:58.563213Z"
    },
    "scrolled": true
   },
   "outputs": [],
   "source": [
    "#coding=utf-8\n",
    "\n",
    "import cv2\n",
    "import dlib\n",
    "\n",
    "i = 1\n",
    "cut_coor_min,cut_coor_max = {},{}\n",
    "#path = \"/Users/jiangshihua/Desktop/1/training/training/e0/qingdu (4)1.jpg\"\n",
    "predictor_path = \"/Users/jiangshihua/Desktop/shape_predictor_68_face_landmarks.dat\"\n",
    "for path in fullname_list:\n",
    "    img = cv2.imread(path)\n",
    "    gray = cv2.cvtColor(img, cv2.COLOR_BGR2GRAY)\n",
    "\n",
    "    #人脸分类器\n",
    "    detector = dlib.get_frontal_face_detector()\n",
    "    # 获取人脸检测器\n",
    "    predictor = dlib.shape_predictor(\n",
    "        predictor_path\n",
    "    )\n",
    "    \n",
    "    dets = detector(gray, 1)\n",
    "    turn = 1\n",
    "    for face in dets:\n",
    "        shape = predictor(img, face)  # 寻找人脸的68个标定点\n",
    "        # 遍历所有点，打印出其坐标，并圈出来\n",
    "        for pt in shape.parts():\n",
    "            pt_pos = (pt.x, pt.y)\n",
    "            cv2.circle(img, pt_pos, 2, (0, 255, 0), 1)\n",
    "            \n",
    "            if turn == 1:\n",
    "                cut_coor_min[i],cut_coor_max[i] = pt_pos,pt_pos\n",
    "                min_x,max_x,min_y,max_y = pt.x,pt.x,pt.y,pt.y\n",
    "                turn += 1\n",
    "            else: \n",
    "                if cut_coor_min[i][0] > pt.x and cut_coor_min[i][1] > pt.y:\n",
    "                    cut_coor_min[i]=(pt.x,pt.y)\n",
    "                elif cut_coor_min[i][0] > pt.x:\n",
    "                    cut_coor_min[i]=(pt.x,cut_coor_min[i][1])\n",
    "                elif cut_coor_min[i][1] > pt.y:\n",
    "                    cut_coor_min[i]=(cut_coor_min[i][0],pt.y)\n",
    "                if cut_coor_max[i][0] < pt.x and cut_coor_max[i][1] < pt.y:\n",
    "                    cut_coor_max[i]=(pt.x,pt.y)  \n",
    "                elif cut_coor_max[i][0] < pt.x:\n",
    "                    cut_coor_max[i]=(pt.x,cut_coor_max[i][1])\n",
    "                elif cut_coor_max[i][1] < pt.y:\n",
    "                    cut_coor_max[i]=(cut_coor_max[i][0],pt.y) \n",
    "                if cut_coor_min[i][0] < 0:\n",
    "                    cut_coor_min[i] = (0,cut_coor_min[i][1])\n",
    "                if cut_coor_min[i][1] < 0:\n",
    "                    cut_coor_min[i] = (cut_coor_min[i][0],0)\n",
    "\n",
    "            #print(pt_pos)\n",
    "        #cv2.imshow(\"image\", img)\n",
    "        #print(shape.parts())\n",
    "#     cv2.waitKey(0)\n",
    "#     cv2.destroyAllWindows()\n",
    "\n",
    "    #保存图像\n",
    "    retval = cv2.imwrite(save_path+str(i)+'.jpg', img)\n",
    "    i+=1\n",
    "    #print(pt_pos)\n",
    "    #print(str(i)+\":\"+str(shape.parts()))"
   ]
  },
  {
   "cell_type": "code",
   "execution_count": 15,
   "id": "ca281ca2",
   "metadata": {
    "ExecuteTime": {
     "end_time": "2022-08-03T13:22:25.644060Z",
     "start_time": "2022-08-03T13:22:25.164874Z"
    },
    "scrolled": true
   },
   "outputs": [],
   "source": [
    "import re\n",
    "# for path in fullname_list1:\n",
    "#     img = cv2.imread(path)\n",
    "# #     print(img.shape)\n",
    "#     path = \"\".join(list(filter(str.isdigit, path)))\n",
    "#     print(path[1:])\n",
    "#     cropped = img[cut_coor_min[i][1]:cut_coor_max[i][1], 0:512]  # 裁剪坐标为[y0:y1, x0:x1]\n",
    "# #     cv2.imwrite(\"./data/cut/cv_cut_thor.jpg\", cropped)\n",
    "\n",
    "# for path in filename_list1:\n",
    "#     path = \"\".join(list(filter(str.isdigit, path)))\n",
    "#     path_int = re.findall(\"\\d+\",path)\n",
    "#     #path = int(float(path))\n",
    "#     if path_int:\n",
    "for i in cut_coor_min.keys():\n",
    "    img = cv2.imread(save_path+str(i)+\".jpg\")\n",
    "    #print(img)\n",
    "#     print(img.shape)\n",
    "    if cut_coor_min[i][1]-(cut_coor_max[i][1]-cut_coor_min[i][1])*1//4 < 0:\n",
    "        cropped = img[0:cut_coor_max[i][1], cut_coor_min[i][0]:cut_coor_max[i][0]]  # 裁剪坐标为[y0:y1, x0:x1]\n",
    "    else:\n",
    "        cropped = img[cut_coor_min[i][1]-(cut_coor_max[i][1]-cut_coor_min[i][1])*1//4:cut_coor_max[i][1], cut_coor_min[i][0]:cut_coor_max[i][0]]  # 裁剪坐标为[y0:y1, x0:x1]\n",
    "    cv2.imwrite(save_path+str(i)+'.jpg', cropped)"
   ]
  },
  {
   "cell_type": "code",
   "execution_count": 63,
   "id": "9257ff16",
   "metadata": {
    "ExecuteTime": {
     "end_time": "2022-08-04T17:52:12.307575Z",
     "start_time": "2022-08-04T17:51:59.367551Z"
    },
    "scrolled": true
   },
   "outputs": [
    {
     "name": "stdout",
     "output_type": "stream",
     "text": [
      "Model: \"sequential_1\"\n",
      "_________________________________________________________________\n",
      " Layer (type)                Output Shape              Param #   \n",
      "=================================================================\n",
      " inception_v3 (Functional)   (None, 5, 5, 2048)        21802784  \n",
      "                                                                 \n",
      " dropout_2 (Dropout)         (None, 5, 5, 2048)        0         \n",
      "                                                                 \n",
      " global_average_pooling2d_1   (None, 2048)             0         \n",
      " (GlobalAveragePooling2D)                                        \n",
      "                                                                 \n",
      " dropout_3 (Dropout)         (None, 2048)              0         \n",
      "                                                                 \n",
      " dense_1 (Dense)             (None, 4)                 8196      \n",
      "                                                                 \n",
      "=================================================================\n",
      "Total params: 21,810,980\n",
      "Trainable params: 1,943,556\n",
      "Non-trainable params: 19,867,424\n",
      "_________________________________________________________________\n",
      "Epoch 1/2\n",
      "2/2 [==============================] - ETA: 0s - loss: 1.6029 - accuracy: 0.2667WARNING:tensorflow:Learning rate reduction is conditioned on metric `val_accuracy` which is not available. Available metrics are: loss,accuracy,lr\n",
      "2/2 [==============================] - 7s 1s/step - loss: 1.6029 - accuracy: 0.2667 - lr: 0.0010\n",
      "Epoch 2/2\n",
      "2/2 [==============================] - ETA: 0s - loss: 1.6506 - accuracy: 0.2174    WARNING:tensorflow:Learning rate reduction is conditioned on metric `val_accuracy` which is not available. Available metrics are: loss,accuracy,lr\n",
      "2/2 [==============================] - 2s 1s/step - loss: 1.6506 - accuracy: 0.2174 - lr: 0.0010\n"
     ]
    },
    {
     "ename": "KeyError",
     "evalue": "'val_loss'",
     "output_type": "error",
     "traceback": [
      "\u001b[0;31m---------------------------------------------------------------------------\u001b[0m",
      "\u001b[0;31mKeyError\u001b[0m                                  Traceback (most recent call last)",
      "\u001b[0;32m/var/folders/b9/cbcfk7cn21jgh4rpfnygpcmh0000gn/T/ipykernel_43442/4181546828.py\u001b[0m in \u001b[0;36m<module>\u001b[0;34m\u001b[0m\n\u001b[1;32m     33\u001b[0m \u001b[0mtrain_loss\u001b[0m \u001b[0;34m=\u001b[0m \u001b[0mhistory_dict\u001b[0m\u001b[0;34m[\u001b[0m\u001b[0;34m\"loss\"\u001b[0m\u001b[0;34m]\u001b[0m \u001b[0;31m#训练集损失值\u001b[0m\u001b[0;34m\u001b[0m\u001b[0;34m\u001b[0m\u001b[0m\n\u001b[1;32m     34\u001b[0m \u001b[0mtrain_accuracy\u001b[0m \u001b[0;34m=\u001b[0m \u001b[0mhistory_dict\u001b[0m\u001b[0;34m[\u001b[0m\u001b[0;34m\"accuracy\"\u001b[0m\u001b[0;34m]\u001b[0m \u001b[0;31m#训练集准确率\u001b[0m\u001b[0;34m\u001b[0m\u001b[0;34m\u001b[0m\u001b[0m\n\u001b[0;32m---> 35\u001b[0;31m \u001b[0mval_loss\u001b[0m \u001b[0;34m=\u001b[0m \u001b[0mhistory_dict\u001b[0m\u001b[0;34m[\u001b[0m\u001b[0;34m\"val_loss\"\u001b[0m\u001b[0;34m]\u001b[0m \u001b[0;31m#验证集损失值\u001b[0m\u001b[0;34m\u001b[0m\u001b[0;34m\u001b[0m\u001b[0m\n\u001b[0m\u001b[1;32m     36\u001b[0m \u001b[0mval_accuracy\u001b[0m \u001b[0;34m=\u001b[0m \u001b[0mhistory_dict\u001b[0m\u001b[0;34m[\u001b[0m\u001b[0;34m\"val_accuracy\"\u001b[0m\u001b[0;34m]\u001b[0m \u001b[0;31m#验证集准确率\u001b[0m\u001b[0;34m\u001b[0m\u001b[0;34m\u001b[0m\u001b[0m\n",
      "\u001b[0;31mKeyError\u001b[0m: 'val_loss'"
     ]
    }
   ],
   "source": [
    "#使用tf.keras.applications中的InceptionV3网络，并且使用官方的预训练模型\n",
    "covn_base = tf.keras.applications.InceptionV3(weights='imagenet',include_top=False,input_shape=(224,224,3))\n",
    "covn_base.trainable = True\n",
    "\n",
    "#冻结前面的层，训练最后20层\n",
    "for layers in covn_base.layers[:-20]:\n",
    "    layers.trainable = False\n",
    "    \n",
    "#构建模型      \n",
    "model = tf.keras.Sequential()\n",
    "model.add(covn_base)\n",
    "model.add(tf.keras.layers.Dropout(0.2))\n",
    "model.add(tf.keras.layers.GlobalAveragePooling2D()) #加入全局平均池化层\n",
    "model.add(tf.keras.layers.Dropout(0.5))\n",
    "model.add(tf.keras.layers.Dense(4,activation='softmax')) #加入输出层(6分类)\n",
    "model.summary() # 打印每层参数信息   \n",
    "\n",
    "#编译模型\n",
    "model.compile(optimizer=tf.keras.optimizers.SGD(learning_rate=0.001), #使用adam优化器，学习率为0.0001\n",
    "              loss=tf.keras.losses.CategoricalCrossentropy(from_logits=False), #交叉熵损失函数\n",
    "              metrics=[\"accuracy\"]) #评价函数\n",
    "\n",
    "\n",
    "history = model.fit(x=train_data_gen,   #输入训练集\n",
    "                    steps_per_epoch=total_train // batch_size, #一个epoch包含的训练步数\n",
    "                    epochs=epochs, #训练模型迭代次数\n",
    "                    validation_data=val_data_gen,  #输入验证集\n",
    "                    validation_steps=total_val // batch_size,\n",
    "                   callbacks=[Reduce]) #一个epoch包含的训练步数\n",
    "\n",
    "# 记录训练集和验证集的准确率和损失值\n",
    "history_dict = history.history\n",
    "train_loss = history_dict[\"loss\"] #训练集损失值\n",
    "train_accuracy = history_dict[\"accuracy\"] #训练集准确率\n",
    "val_loss = history_dict[\"val_loss\"] #验证集损失值\n",
    "val_accuracy = history_dict[\"val_accuracy\"] #验证集准确率"
   ]
  },
  {
   "cell_type": "code",
   "execution_count": 59,
   "id": "6054687c",
   "metadata": {
    "ExecuteTime": {
     "end_time": "2022-08-04T17:49:52.742866Z",
     "start_time": "2022-08-04T17:49:52.740048Z"
    },
    "scrolled": true
   },
   "outputs": [],
   "source": [
    "# # 各个类别评估（X_test为10000个数据集）\n",
    "# print(\"[INFO] evaluating network...\")\n",
    "# predictions = model.predict(train_data_gen, batch_size=32) #显示每一个测试集各个类别的概率，这个值的shape为（10000,10）\n",
    "# print(predictions)\n",
    "# print(predictions.shape)"
   ]
  },
  {
   "cell_type": "code",
   "execution_count": 81,
   "id": "f755e9aa",
   "metadata": {
    "ExecuteTime": {
     "end_time": "2022-08-04T18:01:51.923056Z",
     "start_time": "2022-08-04T18:01:51.711452Z"
    },
    "scrolled": true
   },
   "outputs": [
    {
     "name": "stdout",
     "output_type": "stream",
     "text": [
      "Found 3 images belonging to 1 classes.\n",
      "{'e0': 0, 'e1': 1, 'e2': 2, 'e3': 3}\n",
      "e0/1.jpeg预测结果为-------->2\n",
      "e0/2.jpeg预测结果为-------->2\n",
      "e0/3.jpeg预测结果为-------->1\n"
     ]
    }
   ],
   "source": [
    "import numpy as np\n",
    "import cv2\n",
    "predict_path = \"/Users/jiangshihua/Desktop/1/test/\"\n",
    "predict_img = validation_image_generator.flow_from_directory(directory=predict_path,#从验证集路径读取图片\n",
    "                                                              #batch_size=batch_size, #一次训练所选取的样本数\n",
    "                                                              #shuffle=False,  #不打乱标签\n",
    "                                                              target_size=(im_height, im_width)) #图片resize到224x224大小\n",
    "                                                              #class_mode='categorical') #one-hot编码\n",
    "predictions = model.predict(predict_img, batch_size=32)\n",
    "y_test_pred = np.argmax(predictions, axis=1)\n",
    " \n",
    "# 注意：axis值为你要转换的行(axis=1从每一行找出最大数值的下标,\n",
    "# axis=0从每一列找出最大数值的下标)，而且输出为一维数据，即每个样本对应一个类别值\n",
    "\n",
    "print(train_data_gen.class_indices)\n",
    "#print(predict_img.filenames)\n",
    "#print(predictions)\n",
    "#print(y_test_pred)\n",
    "for i in range(len(predict_img.filenames)):\n",
    "    print(predict_img.filenames[i]+\"预测结果为-------->\"+str(y_test_pred[i]))"
   ]
  },
  {
   "cell_type": "code",
   "execution_count": 78,
   "id": "d20ffe3e-f444-478d-a7d9-ec9a9b326b70",
   "metadata": {},
   "outputs": [
    {
     "data": {
      "image/png": "[encoded data removed]",
      "text/plain": [
       "<Figure size 432x288 with 1 Axes>"
      ]
     },
     "metadata": {
      "needs_background": "light"
     },
     "output_type": "display_data"
    },
    {
     "data": {
      "image/png": "[encoded data removed]",
      "text/plain": [
       "<Figure size 432x288 with 1 Axes>"
      ]
     },
     "metadata": {
      "needs_background": "light"
     },
     "output_type": "display_data"
    }
   ],
   "source": [
    "plt.figure()\n",
    "plt.plot(range(epochs), train_loss, label='train_loss')\n",
    "plt.plot(range(epochs), val_loss, label='val_loss')\n",
    "plt.legend()\n",
    "plt.xlabel('epochs')\n",
    "plt.ylabel('loss')\n",
    "\n",
    "plt.figure()\n",
    "plt.plot(range(epochs), train_accuracy, label='train_accuracy')\n",
    "plt.plot(range(epochs), val_accuracy, label='val_accuracy')\n",
    "plt.legend()\n",
    "plt.xlabel('epochs')\n",
    "plt.ylabel('accuracy')\n",
    "plt.show()"
   ]
  },
  {
   "cell_type": "code",
   "execution_count": 5,
   "id": "54537b2a",
   "metadata": {
    "ExecuteTime": {
     "end_time": "2022-08-04T16:50:53.938980Z",
     "start_time": "2022-08-04T16:50:36.625170Z"
    },
    "scrolled": true,
    "tags": []
   },
   "outputs": [
    {
     "name": "stderr",
     "output_type": "stream",
     "text": [
      "2022-08-05 00:50:36.669534: I tensorflow/core/platform/cpu_feature_guard.cc:151] This TensorFlow binary is optimized with oneAPI Deep Neural Network Library (oneDNN) to use the following CPU instructions in performance-critical operations:  AVX2 FMA\n",
      "To enable them in other operations, rebuild TensorFlow with the appropriate compiler flags.\n"
     ]
    },
    {
     "name": "stdout",
     "output_type": "stream",
     "text": [
      "Model: \"sequential\"\n",
      "_________________________________________________________________\n",
      " Layer (type)                Output Shape              Param #   \n",
      "=================================================================\n",
      " xception (Functional)       (None, 7, 7, 2048)        20861480  \n",
      "                                                                 \n",
      " dropout (Dropout)           (None, 7, 7, 2048)        0         \n",
      "                                                                 \n",
      " global_average_pooling2d (G  (None, 2048)             0         \n",
      " lobalAveragePooling2D)                                          \n",
      "                                                                 \n",
      " dropout_1 (Dropout)         (None, 2048)              0         \n",
      "                                                                 \n",
      " dense (Dense)               (None, 4)                 8196      \n",
      "                                                                 \n",
      "=================================================================\n",
      "Total params: 20,869,676\n",
      "Trainable params: 7,334,572\n",
      "Non-trainable params: 13,535,104\n",
      "_________________________________________________________________\n",
      "Epoch 1/2\n",
      "2/2 [==============================] - ETA: 0s - loss: 1.3749 - accuracy: 0.4348WARNING:tensorflow:Learning rate reduction is conditioned on metric `val_accuracy` which is not available. Available metrics are: loss,accuracy,lr\n",
      "2/2 [==============================] - 8s 3s/step - loss: 1.3749 - accuracy: 0.4348 - lr: 0.0010\n",
      "Epoch 2/2\n",
      "2/2 [==============================] - ETA: 0s - loss: 1.2692 - accuracy: 0.3333WARNING:tensorflow:Learning rate reduction is conditioned on metric `val_accuracy` which is not available. Available metrics are: loss,accuracy,lr\n",
      "2/2 [==============================] - 6s 3s/step - loss: 1.2692 - accuracy: 0.3333 - lr: 0.0010\n"
     ]
    },
    {
     "ename": "KeyError",
     "evalue": "'val_loss'",
     "output_type": "error",
     "traceback": [
      "\u001b[0;31m---------------------------------------------------------------------------\u001b[0m",
      "\u001b[0;31mKeyError\u001b[0m                                  Traceback (most recent call last)",
      "\u001b[0;32m/var/folders/b9/cbcfk7cn21jgh4rpfnygpcmh0000gn/T/ipykernel_43298/1635971255.py\u001b[0m in \u001b[0;36m<module>\u001b[0;34m\u001b[0m\n\u001b[1;32m     33\u001b[0m \u001b[0mtrain_loss\u001b[0m \u001b[0;34m=\u001b[0m \u001b[0mhistory_dict\u001b[0m\u001b[0;34m[\u001b[0m\u001b[0;34m\"loss\"\u001b[0m\u001b[0;34m]\u001b[0m \u001b[0;31m#训练集损失值\u001b[0m\u001b[0;34m\u001b[0m\u001b[0;34m\u001b[0m\u001b[0m\n\u001b[1;32m     34\u001b[0m \u001b[0mtrain_accuracy\u001b[0m \u001b[0;34m=\u001b[0m \u001b[0mhistory_dict\u001b[0m\u001b[0;34m[\u001b[0m\u001b[0;34m\"accuracy\"\u001b[0m\u001b[0;34m]\u001b[0m \u001b[0;31m#训练集准确率\u001b[0m\u001b[0;34m\u001b[0m\u001b[0;34m\u001b[0m\u001b[0m\n\u001b[0;32m---> 35\u001b[0;31m \u001b[0mval_loss\u001b[0m \u001b[0;34m=\u001b[0m \u001b[0mhistory_dict\u001b[0m\u001b[0;34m[\u001b[0m\u001b[0;34m\"val_loss\"\u001b[0m\u001b[0;34m]\u001b[0m \u001b[0;31m#验证集损失值\u001b[0m\u001b[0;34m\u001b[0m\u001b[0;34m\u001b[0m\u001b[0m\n\u001b[0m\u001b[1;32m     36\u001b[0m \u001b[0mval_accuracy\u001b[0m \u001b[0;34m=\u001b[0m \u001b[0mhistory_dict\u001b[0m\u001b[0;34m[\u001b[0m\u001b[0;34m\"val_accuracy\"\u001b[0m\u001b[0;34m]\u001b[0m \u001b[0;31m#验证集准确率\u001b[0m\u001b[0;34m\u001b[0m\u001b[0;34m\u001b[0m\u001b[0m\n",
      "\u001b[0;31mKeyError\u001b[0m: 'val_loss'"
     ]
    }
   ],
   "source": [
    "#使用tf.keras.applications中的Xception网络，并且使用官方的预训练模型\n",
    "covn_base = tf.keras.applications.Xception(weights='imagenet',include_top=False,input_shape=(224,224,3))\n",
    "covn_base.trainable = True\n",
    "\n",
    "#冻结前面的层，训练最后20层\n",
    "for layers in covn_base.layers[:-20]:\n",
    "    layers.trainable = False\n",
    "    \n",
    "#构建模型      \n",
    "model = tf.keras.Sequential()\n",
    "model.add(covn_base)\n",
    "model.add(tf.keras.layers.Dropout(0.2))\n",
    "model.add(tf.keras.layers.GlobalAveragePooling2D()) #加入全局平均池化层\n",
    "model.add(tf.keras.layers.Dropout(0.5))\n",
    "model.add(tf.keras.layers.Dense(4,activation='softmax')) #加入输出层(6分类)\n",
    "model.summary() # 打印每层参数信息   \n",
    "\n",
    "#编译模型\n",
    "model.compile(optimizer=tf.keras.optimizers.Adam(learning_rate=0.001), #使用adam优化器，学习率为0.0001\n",
    "              loss=tf.keras.losses.CategoricalCrossentropy(from_logits=False), #交叉熵损失函数\n",
    "              metrics=[\"accuracy\"]) #评价函数\n",
    "\n",
    "\n",
    "history = model.fit(x=train_data_gen,   #输入训练集\n",
    "                    steps_per_epoch=total_train // batch_size, #一个epoch包含的训练步数\n",
    "                    epochs=epochs, #训练模型迭代次数\n",
    "                    validation_data=val_data_gen,  #输入验证集\n",
    "                    validation_steps=total_val // batch_size,\n",
    "                   callbacks=[Reduce]) #一个epoch包含的训练步数\n",
    "\n",
    "# 记录训练集和验证集的准确率和损失值\n",
    "history_dict = history.history\n",
    "train_loss = history_dict[\"loss\"] #训练集损失值\n",
    "train_accuracy = history_dict[\"accuracy\"] #训练集准确率\n",
    "val_loss = history_dict[\"val_loss\"] #验证集损失值\n",
    "val_accuracy = history_dict[\"val_accuracy\"] #验证集准确率"
   ]
  },
  {
   "cell_type": "code",
   "execution_count": null,
   "id": "0bb6decb-f7cb-46f6-a76d-aa52fb3bb65e",
   "metadata": {},
   "outputs": [],
   "source": [
    "plt.figure()\n",
    "plt.plot(range(epochs), train_loss, label='train_loss')\n",
    "plt.plot(range(epochs), val_loss, label='val_loss')\n",
    "plt.legend()\n",
    "plt.xlabel('epochs')\n",
    "plt.ylabel('loss')\n",
    "\n",
    "plt.figure()\n",
    "plt.plot(range(epochs), train_accuracy, label='train_accuracy')\n",
    "plt.plot(range(epochs), val_accuracy, label='val_accuracy')\n",
    "plt.legend()\n",
    "plt.xlabel('epochs')\n",
    "plt.ylabel('accuracy')\n",
    "plt.show()"
   ]
  },
  {
   "cell_type": "code",
   "execution_count": null,
   "id": "1e273574-a7da-4653-b4ff-9247e7f85432",
   "metadata": {
    "scrolled": true,
    "tags": []
   },
   "outputs": [],
   "source": [
    "#使用tf.keras.applications中的Xception网络，并且使用官方的预训练模型\n",
    "covn_base = tf.keras.applications.DenseNet201(weights='imagenet',include_top=False,input_shape=(224,224,3))\n",
    "covn_base.trainable = True\n",
    "\n",
    "#冻结前面的层，训练最后20层\n",
    "for layers in covn_base.layers[:-20]:\n",
    "    layers.trainable = False\n",
    "    \n",
    "#构建模型      \n",
    "model = tf.keras.Sequential()\n",
    "model.add(covn_base)\n",
    "model.add(tf.keras.layers.Dropout(0.2))\n",
    "model.add(tf.keras.layers.GlobalAveragePooling2D()) #加入全局平均池化层\n",
    "model.add(tf.keras.layers.Dropout(0.5))\n",
    "model.add(tf.keras.layers.Dense(4,activation='softmax')) #加入输出层(6分类)\n",
    "model.summary() # 打印每层参数信息   \n",
    "\n",
    "#编译模型\n",
    "model.compile(optimizer=tf.keras.optimizers.Adam(learning_rate=0.001), #使用adam优化器，学习率为0.0001\n",
    "              loss=tf.keras.losses.CategoricalCrossentropy(from_logits=False), #交叉熵损失函数\n",
    "              metrics=[\"accuracy\"]) #评价函数\n",
    "\n",
    "\n",
    "history = model.fit(x=train_data_gen,   #输入训练集\n",
    "                    steps_per_epoch=total_train // batch_size, #一个epoch包含的训练步数\n",
    "                    epochs=epochs, #训练模型迭代次数\n",
    "                    validation_data=val_data_gen,  #输入验证集\n",
    "                    validation_steps=total_val // batch_size,\n",
    "                   callbacks=[Reduce]) #一个epoch包含的训练步数\n",
    "\n",
    "# 记录训练集和验证集的准确率和损失值\n",
    "history_dict = history.history\n",
    "train_loss = history_dict[\"loss\"] #训练集损失值\n",
    "train_accuracy = history_dict[\"accuracy\"] #训练集准确率\n",
    "val_loss = history_dict[\"val_loss\"] #验证集损失值\n",
    "val_accuracy = history_dict[\"val_accuracy\"] #验证集准确率"
   ]
  },
  {
   "cell_type": "code",
   "execution_count": null,
   "id": "c03f1c94-1e4a-4e6f-bdb1-52bef89c0ba6",
   "metadata": {},
   "outputs": [],
   "source": [
    "plt.figure()\n",
    "plt.plot(range(epochs), train_loss, label='train_loss')\n",
    "plt.plot(range(epochs), val_loss, label='val_loss')\n",
    "plt.legend()\n",
    "plt.xlabel('epochs')\n",
    "plt.ylabel('loss')\n",
    "\n",
    "plt.figure()\n",
    "plt.plot(range(epochs), train_accuracy, label='train_accuracy')\n",
    "plt.plot(range(epochs), val_accuracy, label='val_accuracy')\n",
    "plt.legend()\n",
    "plt.xlabel('epochs')\n",
    "plt.ylabel('accuracy')\n",
    "plt.show()"
   ]
  },
  {
   "cell_type": "code",
   "execution_count": 81,
   "id": "c6926482",
   "metadata": {},
   "outputs": [
    {
     "name": "stdout",
     "output_type": "stream",
     "text": [
      "Model: \"sequential_31\"\n",
      "_________________________________________________________________\n",
      " Layer (type)                Output Shape              Param #   \n",
      "=================================================================\n",
      " NASNet (Functional)         (None, 11, 11, 4032)      84916818  \n",
      "                                                                 \n",
      " dropout_62 (Dropout)        (None, 11, 11, 4032)      0         \n",
      "                                                                 \n",
      " global_average_pooling2d_31  (None, 4032)             0         \n",
      "  (GlobalAveragePooling2D)                                       \n",
      "                                                                 \n",
      " dropout_63 (Dropout)        (None, 4032)              0         \n",
      "                                                                 \n",
      " dense_31 (Dense)            (None, 6)                 24198     \n",
      "                                                                 \n",
      "=================================================================\n",
      "Total params: 84,941,016\n",
      "Trainable params: 2,340,582\n",
      "Non-trainable params: 82,600,434\n",
      "_________________________________________________________________\n",
      "Epoch 1/30\n",
      "7/7 [==============================] - 25s 2s/step - loss: 1.8417 - accuracy: 0.2388 - val_loss: 1.8249 - val_accuracy: 0.2188 - lr: 0.0010\n",
      "Epoch 2/30\n",
      "7/7 [==============================] - 5s 740ms/step - loss: 1.8960 - accuracy: 0.2009 - val_loss: 1.8189 - val_accuracy: 0.2188 - lr: 0.0010\n",
      "Epoch 3/30\n",
      "7/7 [==============================] - 5s 738ms/step - loss: 1.8275 - accuracy: 0.2411 - val_loss: 1.8121 - val_accuracy: 0.2031 - lr: 0.0010\n",
      "Epoch 4/30\n",
      "7/7 [==============================] - 5s 747ms/step - loss: 1.8336 - accuracy: 0.2287 - val_loss: 1.8048 - val_accuracy: 0.2188 - lr: 0.0010\n",
      "Epoch 5/30\n",
      "7/7 [==============================] - 5s 663ms/step - loss: 1.7356 - accuracy: 0.2944 - val_loss: 1.7979 - val_accuracy: 0.2500 - lr: 0.0010\n",
      "Epoch 6/30\n",
      "7/7 [==============================] - 5s 666ms/step - loss: 1.7990 - accuracy: 0.2628 - val_loss: 1.7921 - val_accuracy: 0.2500 - lr: 0.0010\n",
      "Epoch 7/30\n",
      "7/7 [==============================] - 5s 674ms/step - loss: 1.8039 - accuracy: 0.2409 - val_loss: 1.7848 - val_accuracy: 0.2500 - lr: 0.0010\n",
      "Epoch 8/30\n",
      "7/7 [==============================] - 5s 686ms/step - loss: 1.7712 - accuracy: 0.2652 - val_loss: 1.7764 - val_accuracy: 0.2656 - lr: 0.0010\n",
      "Epoch 9/30\n",
      "7/7 [==============================] - 5s 758ms/step - loss: 1.7370 - accuracy: 0.3080 - val_loss: 1.7659 - val_accuracy: 0.2656 - lr: 0.0010\n",
      "Epoch 10/30\n",
      "7/7 [==============================] - 5s 678ms/step - loss: 1.6709 - accuracy: 0.3333 - val_loss: 1.7601 - val_accuracy: 0.2656 - lr: 0.0010\n",
      "Epoch 11/30\n",
      "7/7 [==============================] - 5s 675ms/step - loss: 1.7144 - accuracy: 0.2920 - val_loss: 1.7561 - val_accuracy: 0.2656 - lr: 0.0010\n",
      "Epoch 12/30\n",
      "7/7 [==============================] - 5s 685ms/step - loss: 1.6714 - accuracy: 0.3406 - val_loss: 1.7458 - val_accuracy: 0.2656 - lr: 0.0010\n",
      "Epoch 13/30\n",
      "7/7 [==============================] - 5s 770ms/step - loss: 1.6686 - accuracy: 0.3163 - val_loss: 1.7387 - val_accuracy: 0.2969 - lr: 0.0010\n",
      "Epoch 14/30\n",
      "7/7 [==============================] - 5s 750ms/step - loss: 1.6797 - accuracy: 0.3125 - val_loss: 1.7319 - val_accuracy: 0.2969 - lr: 0.0010\n",
      "Epoch 15/30\n",
      "7/7 [==============================] - 5s 734ms/step - loss: 1.5985 - accuracy: 0.4018 - val_loss: 1.7257 - val_accuracy: 0.2969 - lr: 0.0010\n",
      "Epoch 16/30\n",
      "7/7 [==============================] - 5s 753ms/step - loss: 1.6359 - accuracy: 0.3333 - val_loss: 1.7168 - val_accuracy: 0.2969 - lr: 0.0010\n",
      "Epoch 17/30\n",
      "7/7 [==============================] - 5s 746ms/step - loss: 1.6125 - accuracy: 0.3844 - val_loss: 1.7086 - val_accuracy: 0.2969 - lr: 0.0010\n",
      "Epoch 18/30\n",
      "7/7 [==============================] - ETA: 0s - loss: 1.6058 - accuracy: 0.3479\n",
      "Epoch 18: ReduceLROnPlateau reducing learning rate to 0.00010000000474974513.\n",
      "7/7 [==============================] - 5s 754ms/step - loss: 1.6058 - accuracy: 0.3479 - val_loss: 1.6995 - val_accuracy: 0.2969 - lr: 0.0010\n",
      "Epoch 19/30\n",
      "7/7 [==============================] - 5s 681ms/step - loss: 1.5999 - accuracy: 0.4015 - val_loss: 1.6985 - val_accuracy: 0.2969 - lr: 1.0000e-04\n",
      "Epoch 20/30\n",
      "7/7 [==============================] - 5s 684ms/step - loss: 1.5527 - accuracy: 0.4063 - val_loss: 1.6979 - val_accuracy: 0.2969 - lr: 1.0000e-04\n",
      "Epoch 21/30\n",
      "7/7 [==============================] - 5s 682ms/step - loss: 1.6122 - accuracy: 0.3869 - val_loss: 1.6972 - val_accuracy: 0.2969 - lr: 1.0000e-04\n",
      "Epoch 22/30\n",
      "7/7 [==============================] - 6s 799ms/step - loss: 1.5797 - accuracy: 0.4062 - val_loss: 1.6960 - val_accuracy: 0.2969 - lr: 1.0000e-04\n",
      "Epoch 23/30\n",
      "7/7 [==============================] - ETA: 0s - loss: 1.5782 - accuracy: 0.3650\n",
      "Epoch 23: ReduceLROnPlateau reducing learning rate to 1.0000000474974514e-05.\n",
      "7/7 [==============================] - 5s 712ms/step - loss: 1.5782 - accuracy: 0.3650 - val_loss: 1.6953 - val_accuracy: 0.2969 - lr: 1.0000e-04\n",
      "Epoch 24/30\n",
      "7/7 [==============================] - 5s 706ms/step - loss: 1.5674 - accuracy: 0.4112 - val_loss: 1.6951 - val_accuracy: 0.2969 - lr: 1.0000e-05\n",
      "Epoch 25/30\n",
      "7/7 [==============================] - 5s 699ms/step - loss: 1.5854 - accuracy: 0.4161 - val_loss: 1.6949 - val_accuracy: 0.2969 - lr: 1.0000e-05\n",
      "Epoch 26/30\n",
      "7/7 [==============================] - 5s 675ms/step - loss: 1.5765 - accuracy: 0.3990 - val_loss: 1.6947 - val_accuracy: 0.2969 - lr: 1.0000e-05\n",
      "Epoch 27/30\n",
      "7/7 [==============================] - 5s 682ms/step - loss: 1.5917 - accuracy: 0.3844 - val_loss: 1.6945 - val_accuracy: 0.2969 - lr: 1.0000e-05\n",
      "Epoch 28/30\n",
      "7/7 [==============================] - ETA: 0s - loss: 1.5620 - accuracy: 0.3966\n",
      "Epoch 28: ReduceLROnPlateau reducing learning rate to 1.0000000656873453e-06.\n",
      "7/7 [==============================] - 5s 674ms/step - loss: 1.5620 - accuracy: 0.3966 - val_loss: 1.6942 - val_accuracy: 0.2969 - lr: 1.0000e-05\n",
      "Epoch 29/30\n",
      "7/7 [==============================] - 5s 750ms/step - loss: 1.6029 - accuracy: 0.3929 - val_loss: 1.6941 - val_accuracy: 0.2969 - lr: 1.0000e-06\n",
      "Epoch 30/30\n",
      "7/7 [==============================] - 5s 653ms/step - loss: 1.6186 - accuracy: 0.3966 - val_loss: 1.6940 - val_accuracy: 0.2969 - lr: 1.0000e-06\n"
     ]
    }
   ],
   "source": [
    "#使用tf.keras.applications中的NASNetLarge网络，并且使用官方的预训练模型\n",
    "# covn_base = tf.keras.applications.NASNetLarge(weights='imagenet',include_top=False,input_shape=(224,224,3))\n",
    "# covn_base.trainable = True\n",
    "\n",
    "#使用tf.keras.applications中的NASNetLarge网络，并且使用官方的预训练模型\n",
    "covn_base = tf.keras.applications.NASNetLarge(weights='imagenet',include_top=False,input_shape=(331,331,3))\n",
    "covn_base.trainable = True\n",
    "\n",
    "#冻结前面的层，训练最后20层\n",
    "for layers in covn_base.layers[:-20]:\n",
    "    layers.trainable = False\n",
    "    \n",
    "#构建模型      \n",
    "model = tf.keras.Sequential()\n",
    "model.add(covn_base)\n",
    "model.add(tf.keras.layers.Dropout(0.2))\n",
    "model.add(tf.keras.layers.GlobalAveragePooling2D()) #加入全局平均池化层\n",
    "model.add(tf.keras.layers.Dropout(0.5))\n",
    "model.add(tf.keras.layers.Dense(6,activation='softmax')) #加入输出层(6分类)\n",
    "model.summary() # 打印每层参数信息   \n",
    "\n",
    "#编译模型\n",
    "model.compile(optimizer=tf.keras.optimizers.SGD(learning_rate=0.001), #使用adam优化器，学习率为0.0001\n",
    "              loss=tf.keras.losses.CategoricalCrossentropy(from_logits=False), #交叉熵损失函数\n",
    "              metrics=[\"accuracy\"]) #评价函数\n",
    "\n",
    "\n",
    "history = model.fit(x=train_data_gen,   #输入训练集\n",
    "                    steps_per_epoch=total_train // batch_size, #一个epoch包含的训练步数\n",
    "                    epochs=epochs, #训练模型迭代次数\n",
    "                    validation_data=val_data_gen,  #输入验证集\n",
    "                    validation_steps=total_val // batch_size,\n",
    "                   callbacks=[Reduce]) #一个epoch包含的训练步数\n",
    "\n",
    "# 记录训练集和验证集的准确率和损失值\n",
    "history_dict = history.history\n",
    "train_loss = history_dict[\"loss\"] #训练集损失值\n",
    "train_accuracy = history_dict[\"accuracy\"] #训练集准确率\n",
    "val_loss = history_dict[\"val_loss\"] #验证集损失值\n",
    "val_accuracy = history_dict[\"val_accuracy\"] #验证集准确率"
   ]
  },
  {
   "cell_type": "code",
   "execution_count": 82,
   "id": "c27b1de9",
   "metadata": {},
   "outputs": [
    {
     "data": {
      "image/png": "[encoded data removed]",
      "text/plain": [
       "<Figure size 432x288 with 1 Axes>"
      ]
     },
     "metadata": {
      "needs_background": "light"
     },
     "output_type": "display_data"
    },
    {
     "data": {
      "image/png": "[encoded data removed]",
      "text/plain": [
       "<Figure size 432x288 with 1 Axes>"
      ]
     },
     "metadata": {
      "needs_background": "light"
     },
     "output_type": "display_data"
    }
   ],
   "source": [
    "plt.figure()\n",
    "plt.plot(range(epochs), train_loss, label='train_loss')\n",
    "plt.plot(range(epochs), val_loss, label='val_loss')\n",
    "plt.legend()\n",
    "plt.xlabel('epochs')\n",
    "plt.ylabel('loss')\n",
    "\n",
    "plt.figure()\n",
    "plt.plot(range(epochs), train_accuracy, label='train_accuracy')\n",
    "plt.plot(range(epochs), val_accuracy, label='val_accuracy')\n",
    "plt.legend()\n",
    "plt.xlabel('epochs')\n",
    "plt.ylabel('accuracy')\n",
    "plt.show()"
   ]
  },
  {
   "cell_type": "code",
   "execution_count": 4,
   "id": "7cb61003-9d07-4cdd-9066-3a5ae942b5ae",
   "metadata": {
    "scrolled": true,
    "tags": []
   },
   "outputs": [
    {
     "name": "stdout",
     "output_type": "stream",
     "text": [
      "Downloading data from https://storage.googleapis.com/keras-applications/efficientnetb7_notop.h5\n",
      "258080768/258076736 [==============================] - 21s 0us/step\n",
      "258088960/258076736 [==============================] - 21s 0us/step\n",
      "Model: \"sequential_1\"\n",
      "_________________________________________________________________\n",
      " Layer (type)                Output Shape              Param #   \n",
      "=================================================================\n",
      " efficientnetb7 (Functional)  (None, 7, 7, 2560)       64097687  \n",
      "                                                                 \n",
      " dropout_2 (Dropout)         (None, 7, 7, 2560)        0         \n",
      "                                                                 \n",
      " global_average_pooling2d_1   (None, 2560)             0         \n",
      " (GlobalAveragePooling2D)                                        \n",
      "                                                                 \n",
      " dropout_3 (Dropout)         (None, 2560)              0         \n",
      "                                                                 \n",
      " dense_1 (Dense)             (None, 6)                 15366     \n",
      "                                                                 \n",
      "=================================================================\n",
      "Total params: 64,113,053\n",
      "Trainable params: 7,858,086\n",
      "Non-trainable params: 56,254,967\n",
      "_________________________________________________________________\n",
      "Epoch 1/30\n",
      "7/7 [==============================] - 30s 2s/step - loss: 1.8617 - accuracy: 0.1652 - val_loss: 1.8764 - val_accuracy: 0.0000e+00 - lr: 0.0010\n",
      "Epoch 2/30\n",
      "7/7 [==============================] - 6s 784ms/step - loss: 1.8484 - accuracy: 0.1411 - val_loss: 2.1959 - val_accuracy: 0.0000e+00 - lr: 0.0010\n",
      "Epoch 3/30\n",
      "7/7 [==============================] - 6s 836ms/step - loss: 1.8160 - accuracy: 0.1562 - val_loss: 2.1442 - val_accuracy: 0.1875 - lr: 0.0010\n",
      "Epoch 4/30\n",
      "7/7 [==============================] - 6s 842ms/step - loss: 1.8076 - accuracy: 0.2068 - val_loss: 2.0023 - val_accuracy: 0.1875 - lr: 0.0010\n",
      "Epoch 5/30\n",
      "7/7 [==============================] - 6s 880ms/step - loss: 1.8355 - accuracy: 0.1509 - val_loss: 1.7328 - val_accuracy: 0.3125 - lr: 0.0010\n",
      "Epoch 6/30\n",
      "7/7 [==============================] - 6s 753ms/step - loss: 1.7992 - accuracy: 0.1995 - val_loss: 2.0721 - val_accuracy: 0.0000e+00 - lr: 0.0010\n",
      "Epoch 7/30\n",
      "7/7 [==============================] - 5s 731ms/step - loss: 1.8193 - accuracy: 0.1703 - val_loss: 2.0730 - val_accuracy: 0.0000e+00 - lr: 0.0010\n",
      "Epoch 8/30\n",
      "7/7 [==============================] - 6s 873ms/step - loss: 1.8105 - accuracy: 0.1655 - val_loss: 1.9892 - val_accuracy: 0.0000e+00 - lr: 0.0010\n",
      "Epoch 9/30\n",
      "7/7 [==============================] - 6s 815ms/step - loss: 1.8302 - accuracy: 0.1484 - val_loss: 1.8983 - val_accuracy: 0.0000e+00 - lr: 0.0010\n",
      "Epoch 10/30\n",
      "7/7 [==============================] - ETA: 0s - loss: 1.8236 - accuracy: 0.1776\n",
      "Epoch 10: ReduceLROnPlateau reducing learning rate to 0.00010000000474974513.\n",
      "7/7 [==============================] - 6s 785ms/step - loss: 1.8236 - accuracy: 0.1776 - val_loss: 1.7330 - val_accuracy: 0.1875 - lr: 0.0010\n",
      "Epoch 11/30\n",
      "7/7 [==============================] - 6s 801ms/step - loss: 1.8125 - accuracy: 0.1630 - val_loss: 1.7383 - val_accuracy: 0.1875 - lr: 1.0000e-04\n",
      "Epoch 12/30\n",
      "7/7 [==============================] - 6s 777ms/step - loss: 1.8080 - accuracy: 0.1752 - val_loss: 1.7372 - val_accuracy: 0.1875 - lr: 1.0000e-04\n",
      "Epoch 13/30\n",
      "7/7 [==============================] - 6s 791ms/step - loss: 1.8115 - accuracy: 0.1557 - val_loss: 1.7405 - val_accuracy: 0.2969 - lr: 1.0000e-04\n",
      "Epoch 14/30\n",
      "7/7 [==============================] - 6s 824ms/step - loss: 1.7974 - accuracy: 0.1582 - val_loss: 1.7381 - val_accuracy: 0.2969 - lr: 1.0000e-04\n",
      "Epoch 15/30\n",
      "7/7 [==============================] - ETA: 0s - loss: 1.8101 - accuracy: 0.1557\n",
      "Epoch 15: ReduceLROnPlateau reducing learning rate to 1.0000000474974514e-05.\n",
      "7/7 [==============================] - 6s 794ms/step - loss: 1.8101 - accuracy: 0.1557 - val_loss: 1.7381 - val_accuracy: 0.2969 - lr: 1.0000e-04\n",
      "Epoch 16/30\n",
      "7/7 [==============================] - 6s 766ms/step - loss: 1.8145 - accuracy: 0.1606 - val_loss: 1.7433 - val_accuracy: 0.2969 - lr: 1.0000e-05\n",
      "Epoch 17/30\n",
      "7/7 [==============================] - 6s 773ms/step - loss: 1.7991 - accuracy: 0.1752 - val_loss: 1.7482 - val_accuracy: 0.2969 - lr: 1.0000e-05\n",
      "Epoch 18/30\n",
      "7/7 [==============================] - 6s 923ms/step - loss: 1.8073 - accuracy: 0.1679 - val_loss: 1.7519 - val_accuracy: 0.2969 - lr: 1.0000e-05\n",
      "Epoch 19/30\n",
      "7/7 [==============================] - 6s 800ms/step - loss: 1.8152 - accuracy: 0.1338 - val_loss: 1.7539 - val_accuracy: 0.2969 - lr: 1.0000e-05\n",
      "Epoch 20/30\n",
      "7/7 [==============================] - ETA: 0s - loss: 1.8012 - accuracy: 0.1533\n",
      "Epoch 20: ReduceLROnPlateau reducing learning rate to 1.0000000656873453e-06.\n",
      "7/7 [==============================] - 6s 820ms/step - loss: 1.8012 - accuracy: 0.1533 - val_loss: 1.7554 - val_accuracy: 0.2969 - lr: 1.0000e-05\n",
      "Epoch 21/30\n",
      "7/7 [==============================] - 6s 877ms/step - loss: 1.8061 - accuracy: 0.1763 - val_loss: 1.7580 - val_accuracy: 0.2969 - lr: 1.0000e-06\n",
      "Epoch 22/30\n",
      "7/7 [==============================] - 5s 746ms/step - loss: 1.7870 - accuracy: 0.1898 - val_loss: 1.7599 - val_accuracy: 0.2969 - lr: 1.0000e-06\n",
      "Epoch 23/30\n",
      "7/7 [==============================] - 6s 758ms/step - loss: 1.8121 - accuracy: 0.1460 - val_loss: 1.7618 - val_accuracy: 0.2969 - lr: 1.0000e-06\n",
      "Epoch 24/30\n",
      "7/7 [==============================] - 6s 786ms/step - loss: 1.7916 - accuracy: 0.1873 - val_loss: 1.7636 - val_accuracy: 0.2969 - lr: 1.0000e-06\n",
      "Epoch 25/30\n",
      "7/7 [==============================] - ETA: 0s - loss: 1.8117 - accuracy: 0.1460\n",
      "Epoch 25: ReduceLROnPlateau reducing learning rate to 1.0000001111620805e-07.\n",
      "7/7 [==============================] - 6s 797ms/step - loss: 1.8117 - accuracy: 0.1460 - val_loss: 1.7649 - val_accuracy: 0.2969 - lr: 1.0000e-06\n",
      "Epoch 26/30\n",
      "7/7 [==============================] - 6s 781ms/step - loss: 1.7931 - accuracy: 0.1752 - val_loss: 1.7662 - val_accuracy: 0.2969 - lr: 1.0000e-07\n",
      "Epoch 27/30\n",
      "7/7 [==============================] - 6s 887ms/step - loss: 1.7973 - accuracy: 0.1582 - val_loss: 1.7675 - val_accuracy: 0.2969 - lr: 1.0000e-07\n",
      "Epoch 28/30\n",
      "7/7 [==============================] - 6s 917ms/step - loss: 1.8015 - accuracy: 0.1776 - val_loss: 1.7686 - val_accuracy: 0.2969 - lr: 1.0000e-07\n",
      "Epoch 29/30\n",
      "7/7 [==============================] - 6s 803ms/step - loss: 1.7949 - accuracy: 0.1825 - val_loss: 1.7695 - val_accuracy: 0.2969 - lr: 1.0000e-07\n",
      "Epoch 30/30\n",
      "7/7 [==============================] - ETA: 0s - loss: 1.8194 - accuracy: 0.1406\n",
      "Epoch 30: ReduceLROnPlateau reducing learning rate to 1.000000082740371e-08.\n",
      "7/7 [==============================] - 6s 886ms/step - loss: 1.8194 - accuracy: 0.1406 - val_loss: 1.7703 - val_accuracy: 0.2969 - lr: 1.0000e-07\n"
     ]
    }
   ],
   "source": [
    "#使用tf.keras.applications中的Xception网络，并且使用官方的预训练模型\n",
    "covn_base = tf.keras.applications.EfficientNetB7(weights='imagenet',include_top=False,input_shape=(224,224,3))\n",
    "covn_base.trainable = True\n",
    "\n",
    "#冻结前面的层，训练最后20层\n",
    "for layers in covn_base.layers[:-20]:\n",
    "    layers.trainable = False\n",
    "    \n",
    "#构建模型      \n",
    "model = tf.keras.Sequential()\n",
    "model.add(covn_base)\n",
    "model.add(tf.keras.layers.Dropout(0.2))\n",
    "model.add(tf.keras.layers.GlobalAveragePooling2D()) #加入全局平均池化层\n",
    "model.add(tf.keras.layers.Dropout(0.5))\n",
    "model.add(tf.keras.layers.Dense(6,activation='softmax')) #加入输出层(6分类)\n",
    "model.summary() # 打印每层参数信息   \n",
    "\n",
    "#编译模型\n",
    "model.compile(optimizer=tf.keras.optimizers.Adam(learning_rate=0.001), #使用adam优化器，学习率为0.0001\n",
    "              loss=tf.keras.losses.CategoricalCrossentropy(from_logits=False), #交叉熵损失函数\n",
    "              metrics=[\"accuracy\"]) #评价函数\n",
    "\n",
    "\n",
    "history = model.fit(x=train_data_gen,   #输入训练集\n",
    "                    steps_per_epoch=total_train // batch_size, #一个epoch包含的训练步数\n",
    "                    epochs=epochs, #训练模型迭代次数\n",
    "                    validation_data=val_data_gen,  #输入验证集\n",
    "                    validation_steps=total_val // batch_size,\n",
    "                   callbacks=[Reduce]) #一个epoch包含的训练步数\n",
    "\n",
    "# 记录训练集和验证集的准确率和损失值\n",
    "history_dict = history.history\n",
    "train_loss = history_dict[\"loss\"] #训练集损失值\n",
    "train_accuracy = history_dict[\"accuracy\"] #训练集准确率\n",
    "val_loss = history_dict[\"val_loss\"] #验证集损失值\n",
    "val_accuracy = history_dict[\"val_accuracy\"] #验证集准确率"
   ]
  },
  {
   "cell_type": "code",
   "execution_count": 68,
   "id": "432d8e61-26a7-4010-a879-f892fc56a969",
   "metadata": {},
   "outputs": [
    {
     "data": {
      "image/png": "[encoded data removed]",
      "text/plain": [
       "<Figure size 432x288 with 1 Axes>"
      ]
     },
     "metadata": {
      "needs_background": "light"
     },
     "output_type": "display_data"
    },
    {
     "data": {
      "image/png": "[encoded data removed]",
      "text/plain": [
       "<Figure size 432x288 with 1 Axes>"
      ]
     },
     "metadata": {
      "needs_background": "light"
     },
     "output_type": "display_data"
    }
   ],
   "source": [
    "plt.figure()\n",
    "plt.plot(range(epochs), train_loss, label='train_loss')\n",
    "plt.plot(range(epochs), val_loss, label='val_loss')\n",
    "plt.legend()\n",
    "plt.xlabel('epochs')\n",
    "plt.ylabel('loss')\n",
    "\n",
    "plt.figure()\n",
    "plt.plot(range(epochs), train_accuracy, label='train_accuracy')\n",
    "plt.plot(range(epochs), val_accuracy, label='val_accuracy')\n",
    "plt.legend()\n",
    "plt.xlabel('epochs')\n",
    "plt.ylabel('accuracy')\n",
    "plt.show()"
   ]
  },
  {
   "cell_type": "code",
   "execution_count": 69,
   "id": "a9e53190-c5f8-4a8d-a6cb-2da216d510f8",
   "metadata": {
    "scrolled": true,
    "tags": []
   },
   "outputs": [
    {
     "name": "stdout",
     "output_type": "stream",
     "text": [
      "Model: \"sequential_25\"\n",
      "_________________________________________________________________\n",
      " Layer (type)                Output Shape              Param #   \n",
      "=================================================================\n",
      " mobilenetv2_1.00_224 (Funct  (None, 7, 7, 1280)       2257984   \n",
      " ional)                                                          \n",
      "                                                                 \n",
      " dropout_50 (Dropout)        (None, 7, 7, 1280)        0         \n",
      "                                                                 \n",
      " global_average_pooling2d_25  (None, 1280)             0         \n",
      "  (GlobalAveragePooling2D)                                       \n",
      "                                                                 \n",
      " dropout_51 (Dropout)        (None, 1280)              0         \n",
      "                                                                 \n",
      " dense_25 (Dense)            (None, 6)                 7686      \n",
      "                                                                 \n",
      "=================================================================\n",
      "Total params: 2,265,670\n",
      "Trainable params: 1,213,766\n",
      "Non-trainable params: 1,051,904\n",
      "_________________________________________________________________\n",
      "Epoch 1/30\n",
      "7/7 [==============================] - 8s 858ms/step - loss: 1.0578 - accuracy: 0.6496 - val_loss: 9.6699 - val_accuracy: 0.2031 - lr: 0.0010\n",
      "Epoch 2/30\n",
      "7/7 [==============================] - 5s 707ms/step - loss: 0.3470 - accuracy: 0.8637 - val_loss: 17.5642 - val_accuracy: 0.2656 - lr: 0.0010\n",
      "Epoch 3/30\n",
      "7/7 [==============================] - 5s 648ms/step - loss: 0.1813 - accuracy: 0.9367 - val_loss: 18.7341 - val_accuracy: 0.2812 - lr: 0.0010\n",
      "Epoch 4/30\n",
      "7/7 [==============================] - 5s 647ms/step - loss: 0.1113 - accuracy: 0.9659 - val_loss: 21.6027 - val_accuracy: 0.2188 - lr: 0.0010\n",
      "Epoch 5/30\n",
      "7/7 [==============================] - 5s 665ms/step - loss: 0.0364 - accuracy: 0.9927 - val_loss: 22.2832 - val_accuracy: 0.1875 - lr: 0.0010\n",
      "Epoch 6/30\n",
      "7/7 [==============================] - 5s 666ms/step - loss: 0.0412 - accuracy: 0.9854 - val_loss: 20.4185 - val_accuracy: 0.2812 - lr: 0.0010\n",
      "Epoch 7/30\n",
      "7/7 [==============================] - 5s 657ms/step - loss: 0.0381 - accuracy: 0.9878 - val_loss: 18.0890 - val_accuracy: 0.3125 - lr: 0.0010\n",
      "Epoch 8/30\n",
      "7/7 [==============================] - 5s 781ms/step - loss: 0.0214 - accuracy: 0.9951 - val_loss: 18.9709 - val_accuracy: 0.2812 - lr: 0.0010\n",
      "Epoch 9/30\n",
      "7/7 [==============================] - 5s 668ms/step - loss: 0.0473 - accuracy: 0.9927 - val_loss: 22.3606 - val_accuracy: 0.2031 - lr: 0.0010\n",
      "Epoch 10/30\n",
      "7/7 [==============================] - 5s 714ms/step - loss: 0.0104 - accuracy: 0.9978 - val_loss: 25.9472 - val_accuracy: 0.1719 - lr: 0.0010\n",
      "Epoch 11/30\n",
      "7/7 [==============================] - 5s 710ms/step - loss: 0.0381 - accuracy: 0.9805 - val_loss: 20.9983 - val_accuracy: 0.2188 - lr: 0.0010\n",
      "Epoch 12/30\n",
      "7/7 [==============================] - 5s 681ms/step - loss: 0.0294 - accuracy: 0.9951 - val_loss: 16.2549 - val_accuracy: 0.3438 - lr: 0.0010\n",
      "Epoch 13/30\n",
      "7/7 [==============================] - 5s 649ms/step - loss: 0.0308 - accuracy: 0.9927 - val_loss: 16.9128 - val_accuracy: 0.2812 - lr: 0.0010\n",
      "Epoch 14/30\n",
      "7/7 [==============================] - 5s 644ms/step - loss: 0.0284 - accuracy: 0.9903 - val_loss: 21.3887 - val_accuracy: 0.2344 - lr: 0.0010\n",
      "Epoch 15/30\n",
      "7/7 [==============================] - 5s 715ms/step - loss: 0.0153 - accuracy: 0.9955 - val_loss: 22.2214 - val_accuracy: 0.2188 - lr: 0.0010\n",
      "Epoch 16/30\n",
      "7/7 [==============================] - 5s 625ms/step - loss: 0.0235 - accuracy: 0.9854 - val_loss: 23.4738 - val_accuracy: 0.1875 - lr: 0.0010\n",
      "Epoch 17/30\n",
      "7/7 [==============================] - ETA: 0s - loss: 0.0232 - accuracy: 0.9878\n",
      "Epoch 17: ReduceLROnPlateau reducing learning rate to 0.00010000000474974513.\n",
      "7/7 [==============================] - 5s 662ms/step - loss: 0.0232 - accuracy: 0.9878 - val_loss: 27.8999 - val_accuracy: 0.0938 - lr: 0.0010\n",
      "Epoch 18/30\n",
      "7/7 [==============================] - 5s 643ms/step - loss: 0.0327 - accuracy: 0.9903 - val_loss: 27.2890 - val_accuracy: 0.0938 - lr: 1.0000e-04\n",
      "Epoch 19/30\n",
      "7/7 [==============================] - 5s 647ms/step - loss: 0.0087 - accuracy: 0.9976 - val_loss: 26.5560 - val_accuracy: 0.1094 - lr: 1.0000e-04\n",
      "Epoch 20/30\n",
      "7/7 [==============================] - 5s 739ms/step - loss: 0.0058 - accuracy: 1.0000 - val_loss: 25.9542 - val_accuracy: 0.1250 - lr: 1.0000e-04\n",
      "Epoch 21/30\n",
      "7/7 [==============================] - 5s 647ms/step - loss: 0.0126 - accuracy: 0.9927 - val_loss: 25.0876 - val_accuracy: 0.1406 - lr: 1.0000e-04\n",
      "Epoch 22/30\n",
      "7/7 [==============================] - ETA: 0s - loss: 0.0050 - accuracy: 0.9976\n",
      "Epoch 22: ReduceLROnPlateau reducing learning rate to 1.0000000474974514e-05.\n",
      "7/7 [==============================] - 5s 654ms/step - loss: 0.0050 - accuracy: 0.9976 - val_loss: 24.4740 - val_accuracy: 0.1250 - lr: 1.0000e-04\n",
      "Epoch 23/30\n",
      "7/7 [==============================] - 5s 634ms/step - loss: 0.0075 - accuracy: 1.0000 - val_loss: 24.1069 - val_accuracy: 0.1562 - lr: 1.0000e-05\n",
      "Epoch 24/30\n",
      "7/7 [==============================] - 5s 638ms/step - loss: 0.0027 - accuracy: 1.0000 - val_loss: 23.7447 - val_accuracy: 0.1719 - lr: 1.0000e-05\n",
      "Epoch 25/30\n",
      "7/7 [==============================] - 5s 668ms/step - loss: 0.0068 - accuracy: 0.9976 - val_loss: 23.3851 - val_accuracy: 0.1719 - lr: 1.0000e-05\n",
      "Epoch 26/30\n",
      "7/7 [==============================] - 5s 652ms/step - loss: 0.0053 - accuracy: 0.9976 - val_loss: 23.0256 - val_accuracy: 0.1875 - lr: 1.0000e-05\n",
      "Epoch 27/30\n",
      "7/7 [==============================] - ETA: 0s - loss: 0.0028 - accuracy: 1.0000\n",
      "Epoch 27: ReduceLROnPlateau reducing learning rate to 1.0000000656873453e-06.\n",
      "7/7 [==============================] - 5s 637ms/step - loss: 0.0028 - accuracy: 1.0000 - val_loss: 22.6668 - val_accuracy: 0.1875 - lr: 1.0000e-05\n",
      "Epoch 28/30\n",
      "7/7 [==============================] - 5s 647ms/step - loss: 0.0035 - accuracy: 1.0000 - val_loss: 22.3149 - val_accuracy: 0.1875 - lr: 1.0000e-06\n",
      "Epoch 29/30\n",
      "7/7 [==============================] - 5s 652ms/step - loss: 0.0019 - accuracy: 1.0000 - val_loss: 21.9577 - val_accuracy: 0.1875 - lr: 1.0000e-06\n",
      "Epoch 30/30\n",
      "7/7 [==============================] - 5s 733ms/step - loss: 0.0159 - accuracy: 0.9955 - val_loss: 21.6102 - val_accuracy: 0.1875 - lr: 1.0000e-06\n"
     ]
    }
   ],
   "source": [
    "#使用tf.keras.applications中的Xception网络，并且使用官方的预训练模型\n",
    "covn_base = tf.keras.applications.MobileNetV2(weights='imagenet',include_top=False,input_shape=(224,224,3))\n",
    "covn_base.trainable = True\n",
    "\n",
    "#冻结前面的层，训练最后20层\n",
    "for layers in covn_base.layers[:-20]:\n",
    "    layers.trainable = False\n",
    "    \n",
    "#构建模型      \n",
    "model = tf.keras.Sequential()\n",
    "model.add(covn_base)\n",
    "model.add(tf.keras.layers.Dropout(0.2))\n",
    "model.add(tf.keras.layers.GlobalAveragePooling2D()) #加入全局平均池化层\n",
    "model.add(tf.keras.layers.Dropout(0.5))\n",
    "model.add(tf.keras.layers.Dense(6,activation='softmax')) #加入输出层(6分类)\n",
    "model.summary() # 打印每层参数信息   \n",
    "\n",
    "#编译模型\n",
    "model.compile(optimizer=tf.keras.optimizers.Adam(learning_rate=0.001), #使用adam优化器，学习率为0.0001\n",
    "              loss=tf.keras.losses.CategoricalCrossentropy(from_logits=False), #交叉熵损失函数\n",
    "              metrics=[\"accuracy\"]) #评价函数\n",
    "\n",
    "\n",
    "history = model.fit(x=train_data_gen,   #输入训练集\n",
    "                    steps_per_epoch=total_train // batch_size, #一个epoch包含的训练步数\n",
    "                    epochs=epochs, #训练模型迭代次数\n",
    "                    validation_data=val_data_gen,  #输入验证集\n",
    "                    validation_steps=total_val // batch_size,\n",
    "                   callbacks=[Reduce]) #一个epoch包含的训练步数\n",
    "\n",
    "# 记录训练集和验证集的准确率和损失值\n",
    "history_dict = history.history\n",
    "train_loss = history_dict[\"loss\"] #训练集损失值\n",
    "train_accuracy = history_dict[\"accuracy\"] #训练集准确率\n",
    "val_loss = history_dict[\"val_loss\"] #验证集损失值\n",
    "val_accuracy = history_dict[\"val_accuracy\"] #验证集准确率"
   ]
  },
  {
   "cell_type": "code",
   "execution_count": 70,
   "id": "1441fdcd-72f5-4e44-8dd3-05479c719129",
   "metadata": {},
   "outputs": [
    {
     "data": {
      "image/png": "[encoded data removed]",
      "text/plain": [
       "<Figure size 432x288 with 1 Axes>"
      ]
     },
     "metadata": {
      "needs_background": "light"
     },
     "output_type": "display_data"
    },
    {
     "data": {
      "image/png": "[encoded data removed]",
      "text/plain": [
       "<Figure size 432x288 with 1 Axes>"
      ]
     },
     "metadata": {
      "needs_background": "light"
     },
     "output_type": "display_data"
    }
   ],
   "source": [
    "plt.figure()\n",
    "plt.plot(range(epochs), train_loss, label='train_loss')\n",
    "plt.plot(range(epochs), val_loss, label='val_loss')\n",
    "plt.legend()\n",
    "plt.xlabel('epochs')\n",
    "plt.ylabel('loss')\n",
    "\n",
    "plt.figure()\n",
    "plt.plot(range(epochs), train_accuracy, label='train_accuracy')\n",
    "plt.plot(range(epochs), val_accuracy, label='val_accuracy')\n",
    "plt.legend()\n",
    "plt.xlabel('epochs')\n",
    "plt.ylabel('accuracy')\n",
    "plt.show()"
   ]
  }
 ],
 "metadata": {
  "kernelspec": {
   "display_name": "Python 3 (ipykernel)",
   "language": "python",
   "name": "python3"
  },
  "language_info": {
   "codemirror_mode": {
    "name": "ipython",
    "version": 3
   },
   "file_extension": ".py",
   "mimetype": "text/x-python",
   "name": "python",
   "nbconvert_exporter": "python",
   "pygments_lexer": "ipython3",
   "version": "3.9.7"
  }
 },
 "nbformat": 4,
 "nbformat_minor": 5
}
