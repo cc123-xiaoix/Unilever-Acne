{
 "cells": [
  {
   "cell_type": "code",
   "execution_count": 2,
   "id": "ba429c2b",
   "metadata": {
    "ExecuteTime": {
     "end_time": "2022-07-31T13:39:45.753175Z",
     "start_time": "2022-07-31T13:39:45.644721Z"
    }
   },
   "outputs": [
    {
     "name": "stdout",
     "output_type": "stream",
     "text": [
      "Found 2741 images belonging to 4 classes.\n",
      "Found 483 images belonging to 4 classes.\n"
     ]
    }
   ],
   "source": [
    "#导入相应的库\n",
    "from tensorflow.keras.preprocessing.image import ImageDataGenerator\n",
    "from sklearn.metrics import confusion_matrix\n",
    "import matplotlib.pyplot as plt\n",
    "import tensorflow as tf\n",
    "import pandas as pd\n",
    "import numpy as np  \n",
    "import itertools\n",
    "import os\n",
    "from tensorflow import keras\n",
    "from tensorflow.keras.applications.inception_v3 import InceptionV3\n",
    "from tensorflow.keras.applications.inception_resnet_v2 import InceptionResNetV2\n",
    "from tensorflow.keras.layers import Concatenate\n",
    "import sys\n",
    "\n",
    "#导入相应的库\n",
    "from tensorflow.keras.preprocessing.image import ImageDataGenerator\n",
    "from sklearn.metrics import confusion_matrix\n",
    "import matplotlib.pyplot as plt\n",
    "import tensorflow as tf\n",
    "import pandas as pd\n",
    "import numpy as np  \n",
    "import itertools\n",
    "import os\n",
    "\n",
    "#设置图片的高和宽，一次训练所选取的样本数，迭代次数\n",
    "im_height = 224\n",
    "im_width = 224\n",
    "batch_size = 94\n",
    "epochs = 30\n",
    "\n",
    "\n",
    "image_path = \"/Users/jiangshihua/Desktop/cuochuang 1/\"  # 红细胞数据集路径\n",
    "train_dir = image_path + \"training/training\"  #训练集路径\n",
    "validation_dir = image_path + \"validation/validation\" #验证集路径\n",
    "\n",
    "# 定义训练集图像生成器，并进行图像增强\n",
    "train_image_generator = ImageDataGenerator( rescale=1./255, # 归一化\n",
    "                                            rotation_range=40, #旋转范围\n",
    "                                            width_shift_range=0.2, #水平平移范围\n",
    "                                            height_shift_range=0.2, #垂直平移范围\n",
    "                                           shear_range=0.2, #剪切变换的程度\n",
    "                                            zoom_range=0.2, #剪切变换的程度\n",
    "                                            fill_mode='nearest')\n",
    "                                            \n",
    "# 使用图像生成器从文件夹train_dir中读取样本，对标签进行one-hot编码\n",
    "train_data_gen = train_image_generator.flow_from_directory(directory=train_dir, #从训练集路径读取图片\n",
    "                                                           batch_size=batch_size, #一次训练所选取的样本数\n",
    "                                                           shuffle=True, #打乱标签\n",
    "                                                           target_size=(im_height, im_width), #图片resize到224x224大小\n",
    "                                                           class_mode='categorical') #one-hot编码\n",
    "                                                           \n",
    "# 训练集样本数        \n",
    "total_train = train_data_gen.n \n",
    "\n",
    "# 定义验证集图像生成器，并对图像进行预处理\n",
    "validation_image_generator = ImageDataGenerator(rescale=1./255) # 归一化\n",
    "\n",
    "# 使用图像生成器从验证集validation_dir中读取样本\n",
    "val_data_gen = validation_image_generator.flow_from_directory(directory=validation_dir,#从验证集路径读取图片\n",
    "                                                              batch_size=batch_size, #一次训练所选取的样本数\n",
    "                                                              shuffle=False,  #不打乱标签\n",
    "                                                              target_size=(im_height, im_width), #图片resize到224x224大小\n",
    "                                                              class_mode='categorical') #one-hot编码\n",
    "                                                              \n",
    "# 验证集样本数      \n",
    "total_val = val_data_gen.n\n",
    "\n"
   ]
  },
  {
   "cell_type": "code",
   "execution_count": 3,
   "id": "e8ea105b-66ab-47a9-ab0e-8c5f6851f635",
   "metadata": {
    "ExecuteTime": {
     "end_time": "2022-07-31T13:39:48.054224Z",
     "start_time": "2022-07-31T13:39:48.045661Z"
    }
   },
   "outputs": [
    {
     "name": "stdout",
     "output_type": "stream",
     "text": [
      "WARNING:tensorflow:`epsilon` argument is deprecated and will be removed, use `min_delta` instead.\n"
     ]
    }
   ],
   "source": [
    "from keras.callbacks import ReduceLROnPlateau\n",
    "#from keras.callbacks import EarlyStopping\n",
    "Reduce=ReduceLROnPlateau(monitor='val_accuracy',\n",
    "                         factor=0.1,\n",
    "                         patience=5,\n",
    "                         verbose=1,\n",
    "                         mode='auto',\n",
    "                         epsilon=0.0001,\n",
    "                         cooldown=0,\n",
    "                         min_lr=0)"
   ]
  },
  {
   "cell_type": "code",
   "execution_count": 4,
   "id": "d5849cf2",
   "metadata": {
    "ExecuteTime": {
     "end_time": "2022-07-31T13:40:26.755745Z",
     "start_time": "2022-07-31T13:40:20.275941Z"
    }
   },
   "outputs": [
    {
     "name": "stdout",
     "output_type": "stream",
     "text": [
      "WARNING:tensorflow:`input_shape` is undefined or non-square, or `rows` is not in [96, 128, 160, 192, 224]. Weights for input shape (224, 224) will be loaded as the default.\n"
     ]
    },
    {
     "name": "stderr",
     "output_type": "stream",
     "text": [
      "2022-07-31 21:40:20.323496: I tensorflow/core/platform/cpu_feature_guard.cc:151] This TensorFlow binary is optimized with oneAPI Deep Neural Network Library (oneDNN) to use the following CPU instructions in performance-critical operations:  AVX2 FMA\n",
      "To enable them in other operations, rebuild TensorFlow with the appropriate compiler flags.\n"
     ]
    },
    {
     "name": "stdout",
     "output_type": "stream",
     "text": [
      "----------\n",
      "r1:KerasTensor(type_spec=TensorSpec(shape=(None, 7, 7, 1280), dtype=tf.float32, name=None), name='model/out_relu/Relu6:0', description=\"created by layer 'model'\")\n",
      "r2:KerasTensor(type_spec=TensorSpec(shape=(None, 7, 7, 1920), dtype=tf.float32, name=None), name='model_1/relu/Relu:0', description=\"created by layer 'model_1'\")\n",
      "r1.shape:(None, 7, 7, 1280)\n",
      "r2.shape:(None, 7, 7, 1920)\n",
      "Model: \"model_2\"\n",
      "__________________________________________________________________________________________________\n",
      " Layer (type)                   Output Shape         Param #     Connected to                     \n",
      "==================================================================================================\n",
      " input_1 (InputLayer)           [(None, 224, 224, 3  0           []                               \n",
      "                                )]                                                                \n",
      "                                                                                                  \n",
      " model (Functional)             (None, None, None,   2257984     ['input_1[0][0]']                \n",
      "                                1280)                                                             \n",
      "                                                                                                  \n",
      " model_1 (Functional)           (None, None, None,   18321984    ['input_1[0][0]']                \n",
      "                                1920)                                                             \n",
      "                                                                                                  \n",
      " concatenate (Concatenate)      (None, 7, 7, 3200)   0           ['model[0][0]',                  \n",
      "                                                                  'model_1[0][0]']                \n",
      "                                                                                                  \n",
      " global_average_pooling2d (Glob  (None, 3200)        0           ['concatenate[0][0]']            \n",
      " alAveragePooling2D)                                                                              \n",
      "                                                                                                  \n",
      " dropout (Dropout)              (None, 3200)         0           ['global_average_pooling2d[0][0]'\n",
      "                                                                 ]                                \n",
      "                                                                                                  \n",
      " dense (Dense)                  (None, 4)            12804       ['dropout[0][0]']                \n",
      "                                                                                                  \n",
      "==================================================================================================\n",
      "Total params: 20,592,772\n",
      "Trainable params: 20,329,604\n",
      "Non-trainable params: 263,168\n",
      "__________________________________________________________________________________________________\n"
     ]
    }
   ],
   "source": [
    "# # # 定义第一个模型 InceptionV3\n",
    "# def model1():\n",
    "#     base_model_1 = tf.keras.applications.InceptionV3(weights='imagenet',include_top=False)\n",
    "#     model = tf.keras.Model(inputs=base_model_1.input, outputs=base_model_1.output)\n",
    "#     return base_model_1,model\n",
    "\n",
    "# # # 定义第一个模型 InceptionV3\n",
    "# def model1():\n",
    "#     base_model_1 = tf.keras.applications.VGG19(weights='imagenet',include_top=False)\n",
    "#     model = tf.keras.Model(inputs=base_model_1.input, outputs=base_model_1.output)\n",
    "#     return base_model_1,model\n",
    "\n",
    "# # 定义第一个模型 InceptionV3\n",
    "def model1():\n",
    "    base_model_1 = tf.keras.applications.MobileNetV2(weights='imagenet',include_top=False)\n",
    "    model = tf.keras.Model(inputs=base_model_1.input, outputs=base_model_1.output)\n",
    "    return base_model_1,model\n",
    "\n",
    "# # 定义第二个模型  InceptionResNetV2\n",
    "# def model1():\n",
    "#     base_model_1 = tf.keras.applications.InceptionResNetV2(weights='imagenet',include_top=False)\n",
    "#     model = tf.keras.Model(inputs=base_model_1.input, outputs=base_model_1.output)\n",
    "#     return base_model_1,model\n",
    "\n",
    "# # 定义第二个模型  InceptionResNetV2\n",
    "# def model2():\n",
    "#     base_model_2 = tf.keras.applications.NASNetLarge(weights='imagenet',include_top=False)\n",
    "#     model = tf.keras.Model(inputs=base_model_2.input, outputs=base_model_2.output)\n",
    "#     return base_model_2,model\n",
    "\n",
    "# # 定义第二个模型  InceptionResNetV2\n",
    "# def model2():\n",
    "#     base_model_2 = tf.keras.applications.Xception(weights='imagenet',include_top=False)\n",
    "#     model = tf.keras.Model(inputs=base_model_2.input, outputs=base_model_2.output)\n",
    "#     return base_model_2,model\n",
    "\n",
    "# # 定义第二个模型  InceptionResNetV2\n",
    "# def model2():\n",
    "#     base_model_2 = tf.keras.applications.ResNet152V2(weights='imagenet',include_top=False)\n",
    "#     model = tf.keras.Model(inputs=base_model_2.input, outputs=base_model_2.output)\n",
    "#     return base_model_2,model\n",
    "\n",
    "# 定义第二个模型  InceptionResNetV2\n",
    "def model2():\n",
    "    base_model_2 = tf.keras.applications.DenseNet201(weights='imagenet',include_top=False)\n",
    "    model = tf.keras.Model(inputs=base_model_2.input, outputs=base_model_2.output)\n",
    "    return base_model_2,model\n",
    "\n",
    "#模型拼接\n",
    "inp = tf.keras.Input((224,224,3))\n",
    "base_model_1,model_1 = model1()\n",
    "base_model_2,model_2 = model2()\n",
    "r1 = model_1(inp)\n",
    "r2 = model_2(inp)\n",
    "# print(\"----------\")\n",
    "# print(\"r1:\"+str(r1))\n",
    "# print(\"r2:\"+str(r2))\n",
    "# print(\"r1.shape:\"+str(r1.shape))\n",
    "# print(\"r2.shape:\"+str(r2.shape))\n",
    "\n",
    "# r1 = tf.reshape(r1,(-1,5,5,-1))\n",
    "# r2 = tf.reshape(r2,(-1,5,5,-1))\n",
    "# # r1 = tf.nn.local_response_normalization(r1)\n",
    "# # r2 = tf.nn.local_response_normalization(r2)\n",
    "print(\"----------\")\n",
    "print(\"r1:\"+str(r1))\n",
    "print(\"r2:\"+str(r2))\n",
    "print(\"r1.shape:\"+str(r1.shape))\n",
    "print(\"r2.shape:\"+str(r2.shape))\n",
    "concatenated = Concatenate()([r1,r2])\n",
    "\n",
    "#构建模型\n",
    "x = tf.keras.layers.GlobalAveragePooling2D()(concatenated)# 加入全局平均池化层\n",
    "x = tf.keras.layers.Dropout(0.5)(x)# 加入一个Dropout层\n",
    "predictions = tf.keras.layers.Dense(4, activation='softmax')(x)# 加入输出层（4分类）\n",
    "model = tf.keras.Model(inputs=inp, outputs=predictions)\n",
    "model.summary() # 打印每层参数信息\n",
    "\n",
    "\n",
    "# 冻结前面的层，训练最后20层\n",
    "for layers in base_model_1.layers[:-20]:\n",
    "    layers.trainable = False\n",
    "\n",
    "for layers in base_model_2.layers[:-20]:\n",
    "    layers.trainable = False\n",
    "\n",
    "    \n",
    "#编译模型\n",
    "model.compile(optimizer=tf.keras.optimizers.Adam(learning_rate=0.01), #使用adam优化器，学习率为0.0001\n",
    "              loss=tf.keras.losses.CategoricalCrossentropy(from_logits=False), #交叉熵损失函数\n",
    "              metrics=[\"accuracy\"]) #评价函数"
   ]
  },
  {
   "cell_type": "code",
   "execution_count": null,
   "id": "666ec9d2",
   "metadata": {
    "ExecuteTime": {
     "start_time": "2022-07-31T13:40:29.872Z"
    }
   },
   "outputs": [
    {
     "name": "stdout",
     "output_type": "stream",
     "text": [
      "Epoch 1/30\n",
      "29/29 [==============================] - 696s 24s/step - loss: 1.5909 - accuracy: 0.5440 - val_loss: 15.6781 - val_accuracy: 0.3362 - lr: 0.0100\n",
      "Epoch 2/30\n",
      "29/29 [==============================] - 680s 23s/step - loss: 0.6641 - accuracy: 0.7340 - val_loss: 10.1738 - val_accuracy: 0.4298 - lr: 0.0100\n",
      "Epoch 3/30\n",
      "29/29 [==============================] - 631s 22s/step - loss: 0.5569 - accuracy: 0.7892 - val_loss: 23.8356 - val_accuracy: 0.3787 - lr: 0.0100\n",
      "Epoch 4/30\n",
      " 6/29 [=====>........................] - ETA: 16:18 - loss: 0.4112 - accuracy: 0.8528"
     ]
    }
   ],
   "source": [
    "history = model.fit(x=train_data_gen,   #输入训练集\n",
    "                    steps_per_epoch=total_train // batch_size, #一个epoch包含的训练步数\n",
    "                    epochs=epochs, #训练模型迭代次数\n",
    "                    validation_data=val_data_gen,  #输入验证集\n",
    "                    validation_steps=total_val // batch_size,\n",
    "                   callbacks=[Reduce]) #一个epoch包含的训练步数\n",
    "\n",
    "# 记录训练集和验证集的准确率和损失值\n",
    "history_dict = history.history\n",
    "train_loss = history_dict[\"loss\"] #训练集损失值\n",
    "train_accuracy = history_dict[\"accuracy\"] #训练集准确率\n",
    "val_loss = history_dict[\"val_loss\"] #验证集损失值\n",
    "val_accuracy = history_dict[\"val_accuracy\"] #验证集准确率\n"
   ]
  },
  {
   "cell_type": "code",
   "execution_count": null,
   "id": "0024a13d",
   "metadata": {
    "ExecuteTime": {
     "start_time": "2022-07-31T13:40:34.172Z"
    }
   },
   "outputs": [],
   "source": [
    "plt.figure()\n",
    "plt.plot(range(epochs), train_loss, label='train_loss')\n",
    "plt.plot(range(epochs), val_loss, label='val_loss')\n",
    "plt.legend()\n",
    "plt.xlabel('epochs')\n",
    "plt.ylabel('loss')\n",
    "\n",
    "plt.figure()\n",
    "plt.plot(range(epochs), train_accuracy, label='train_accuracy')\n",
    "plt.plot(range(epochs), val_accuracy, label='val_accuracy')\n",
    "plt.legend()\n",
    "plt.xlabel('epochs')\n",
    "plt.ylabel('accuracy')\n",
    "plt.show()"
   ]
  },
  {
   "cell_type": "code",
   "execution_count": 77,
   "id": "4edfb594",
   "metadata": {},
   "outputs": [
    {
     "data": {
      "image/png": "[encoded data removed]",
      "text/plain": [
       "<Figure size 432x288 with 1 Axes>"
      ]
     },
     "metadata": {
      "needs_background": "light"
     },
     "output_type": "display_data"
    },
    {
     "data": {
      "image/png": "[encoded data removed]",
      "text/plain": [
       "<Figure size 432x288 with 1 Axes>"
      ]
     },
     "metadata": {
      "needs_background": "light"
     },
     "output_type": "display_data"
    }
   ],
   "source": [
    "plt.figure()\n",
    "plt.plot(range(epochs), train_loss, label='train_loss')\n",
    "plt.plot(range(epochs), val_loss, label='val_loss')\n",
    "plt.legend()\n",
    "plt.xlabel('epochs')\n",
    "plt.ylabel('loss')\n",
    "\n",
    "plt.figure()\n",
    "plt.plot(range(epochs), train_accuracy, label='train_accuracy')\n",
    "plt.plot(range(epochs), val_accuracy, label='val_accuracy')\n",
    "plt.legend()\n",
    "plt.xlabel('epochs')\n",
    "plt.ylabel('accuracy')\n",
    "plt.show()"
   ]
  },
  {
   "cell_type": "code",
   "execution_count": null,
   "id": "1a212491-f6d4-4191-ac72-bf178ffc8f21",
   "metadata": {},
   "outputs": [],
   "source": []
  }
 ],
 "metadata": {
  "kernelspec": {
   "display_name": "Python 3 (ipykernel)",
   "language": "python",
   "name": "python3"
  },
  "language_info": {
   "codemirror_mode": {
    "name": "ipython",
    "version": 3
   },
   "file_extension": ".py",
   "mimetype": "text/x-python",
   "name": "python",
   "nbconvert_exporter": "python",
   "pygments_lexer": "ipython3",
   "version": "3.9.7"
  }
 },
 "nbformat": 4,
 "nbformat_minor": 5
}
