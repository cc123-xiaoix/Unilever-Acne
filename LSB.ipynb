{
 "cells": [
  {
   "cell_type": "code",
   "execution_count": null,
   "id": "4d3f2502",
   "metadata": {
    "ExecuteTime": {
     "start_time": "2022-11-01T00:45:34.105Z"
    }
   },
   "outputs": [
    {
     "name": "stdout",
     "output_type": "stream",
     "text": [
      "请输入要隐藏在第几层（0-7）：4\n",
      "峰值信噪比（PSNR）为： 35.64797046261095\n",
      "结构相似性（SSIM）为： 0.8641864545646606\n"
     ]
    }
   ],
   "source": [
    "import numpy as np\n",
    "#from skimage.measure import compare_ssim\n",
    "from skimage.metrics import structural_similarity as compare_ssim\n",
    "from skimage.metrics import peak_signal_noise_ratio as compare_psnr\n",
    "from PIL import Image\n",
    "\n",
    "import cv2\n",
    "import matplotlib.pyplot as plt\n",
    "\n",
    "#计算psnr\n",
    "def psnr(imag1,imag2):\n",
    "    diff = imag1 - imag2\n",
    "    #print(np.sum(diff))\n",
    "    mse = np.mean(np.square(diff))\n",
    "    psnr = 10 * np.log10(255 * 255 / mse)\n",
    "    return(psnr)\n",
    "#计算ssim\n",
    "def ssim(imag1,imag2):\n",
    "    (grayScore, diff) = compare_ssim(imag1, imag2, full=True)\n",
    "    #diff = (diff * 255).astype(\"uint8\")\n",
    "    return grayScore\n",
    "\n",
    "#读入载体图片和水印图片\n",
    "# Carrier = Image.open('/Users/jiangshihua/Desktop/111.png')\n",
    "# WaterMark = Image.open('/Users/jiangshihua/Desktop/321.png')\n",
    "Carrier_array = cv2.imread('/Users/jiangshihua/Desktop/111.png', 0)  # 直接读为灰度图像\n",
    "\n",
    "img = cv2.imread('/Users/jiangshihua/Desktop/321.png', 0)  # 直接读为灰度图像\n",
    "ret, thresh1 = cv2.threshold(img, 127, 255, 0)\n",
    "WaterMark_array = thresh1\n",
    "#确认需要隐藏在二进制位第几位\n",
    "Layers = int(input('请输入要隐藏在第几层（0-7）：'))\n",
    "\n",
    "#将读入的图片转为array类型\n",
    "#Carrier_array = np.array(Carrier)\n",
    "#WaterMark_array = np.array(WaterMark)\n",
    "\n",
    "a,b = WaterMark_array.shape \n",
    "a1,b1 = Carrier_array.shape\n",
    "\n",
    "array1 = np.zeros((a,b),dtype='float32')\n",
    "#构建水印大小数组，将载体同等大小位传入\n",
    "for i in range(a):\n",
    "    for j in range(b):\n",
    "        array1[i][j] = Carrier_array[i][j]\n",
    "#嵌入水印\n",
    "for i in range(a):\n",
    "    for j in range(b):\n",
    "        w = Carrier_array[i][j] // (2**Layers)\n",
    "        if w % 2 == 0 and WaterMark_array[i][j] == 1:\n",
    "            Carrier_array[i][j] = Carrier_array[i][j] + (2**Layers)\n",
    "        elif w % 2 == 1 and WaterMark_array[i][j] == 0:\n",
    "            Carrier_array[i][j] = Carrier_array[i][j] - (2**Layers)\n",
    "            \n",
    "#构建水印大小数组，将嵌入水印后的载体的同等大小位传入\n",
    "array2 = np.zeros((a,b),dtype='float32')       \n",
    "for i in range(a):\n",
    "    for j in range(b):\n",
    "        array2[i][j] = Carrier_array[i][j]\n",
    "     \n",
    "\n",
    "\n",
    "    #计算psnr\n",
    "PSNR = psnr(array1,array2)\n",
    "#PSNR = skimage.measure.compare_psnr(Carrier_array1, Carrier_array, 255)\n",
    "print('峰值信噪比（PSNR）为：',PSNR)\n",
    "#计算ssim\n",
    "SSIM = ssim(array1,array2)\n",
    "print('结构相似性（SSIM）为：',SSIM)\n",
    "\n",
    "\n",
    "#展示嵌入水印后的图片   \n",
    "I = Image.fromarray(Carrier_array)\n",
    "I.show()      \n",
    "\n",
    "\n",
    "#提取水印\n",
    "a1,b1 = Carrier_array.shape\n",
    "WaterMark_array1 = np.zeros((a1,b1),dtype='int8')\n",
    "for i in range(a1):\n",
    "    for j in range(b1):\n",
    "        w = Carrier_array[i][j] // (2**Layers)\n",
    "        if w % 2 == 1:\n",
    "            WaterMark_array1[i][j] = 1\n",
    "\n",
    "#将提取的水印图像输出\n",
    "WaterMark_array1.dtype = 'bool'\n",
    "#print(WaterMark_array1.shape)\n",
    "I = Image.fromarray(WaterMark_array1)\n",
    "I.show()  \n",
    "\n"
   ]
  },
  {
   "cell_type": "code",
   "execution_count": null,
   "id": "17778f82",
   "metadata": {},
   "outputs": [],
   "source": []
  }
 ],
 "metadata": {
  "kernelspec": {
   "display_name": "Python 3 (ipykernel)",
   "language": "python",
   "name": "python3"
  },
  "language_info": {
   "codemirror_mode": {
    "name": "ipython",
    "version": 3
   },
   "file_extension": ".py",
   "mimetype": "text/x-python",
   "name": "python",
   "nbconvert_exporter": "python",
   "pygments_lexer": "ipython3",
   "version": "3.9.7"
  }
 },
 "nbformat": 4,
 "nbformat_minor": 5
}
